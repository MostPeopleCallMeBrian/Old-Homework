{
 "cells": [
  {
   "cell_type": "markdown",
   "metadata": {
    "id": "QDywxIp5O6kA"
   },
   "source": [
    "# Assignment 2 \n",
    "### File Handling - Text and .csv files\n",
    "Let us review file handling concept in Python"
   ]
  },
  {
   "cell_type": "markdown",
   "metadata": {
    "id": "MRgwNEYsO6kE"
   },
   "source": [
    "**Q1: Writing data to a text file: with statement:**\\\n",
    "Let us create a text file named grades.txt and write the following three records with student IDs, last names and letter grades.\\\n",
    "1 Red   A\\\n",
    "2 Green B\\\n",
    "3 White A"
   ]
  },
  {
   "cell_type": "code",
   "execution_count": 50,
   "metadata": {},
   "outputs": [],
   "source": [
    "#create the file\n",
    "f= open(\"grades.txt\", \"x\")\n",
    "f.close()"
   ]
  },
  {
   "cell_type": "code",
   "execution_count": 51,
   "metadata": {},
   "outputs": [],
   "source": [
    "#Now write what we're supposed to into it, a line at a time\n",
    "f=open(\"grades.txt\", \"a\")\n",
    "f.write(\"1 Red A \\n\")\n",
    "f.write(\"2 Green B\\n\")\n",
    "f.write(\"3 White A\\n\")\n",
    "f.close()"
   ]
  },
  {
   "cell_type": "markdown",
   "metadata": {
    "id": "I5QwVQ4JO6kG"
   },
   "source": [
    "**Q2: Reading data from text file:**\\\n",
    "We just created the grades.txt and wrote data to it. Now, let's read the data from the file sequentially from beginning to end."
   ]
  },
  {
   "cell_type": "markdown",
   "metadata": {
    "id": "eQHx4EJpO6kG"
   },
   "source": [
    "Iterating through a file object as shown in the preceeding for statement reads one line at a time from the file and returns the records as strings. "
   ]
  },
  {
   "cell_type": "markdown",
   "metadata": {
    "id": "z1IxSI67O6kH"
   },
   "source": [
    "Seeking specific file postion: \\\n",
    "A file-position pointer representing the location of the next character to read is maintained by the system.Each time you need to reposition the file-postiion pointer to the beggining of the file. The seek command is used.\n",
    "file_object.seek(0)"
   ]
  },
  {
   "cell_type": "markdown",
   "metadata": {
    "id": "GUjwb-vGO6kH"
   },
   "source": [
    "**Q3: Updating Text Files:** \\\n",
    "If the name 'White' needs to be changed to 'Blue' in grades.txt, follow the steps:\\\n",
    "Copy the records before 3 White A into a temporary file.\\\n",
    "Write the updated and formatted tecord for student 3 to this file.\\\n",
    "Copy the records after 3 White A to the temporaty file delete the old file and\n",
    "rename temproary file to use the original file's name. "
   ]
  },
  {
   "cell_type": "code",
   "execution_count": 52,
   "metadata": {},
   "outputs": [],
   "source": [
    "#Make the temp file\n",
    "#temp= open(\"temp.txt\", \"x\")\n",
    "#temp.close()\n",
    "#Open the temp and non-temp file\n",
    "temp= open(\"temp.txt\", \"a\")\n",
    "f= open(\"grades.txt\",\"r\")\n",
    "\n",
    "#Copy the contents to temp, making the needed change from \"3 White A\" to \"3 Blue A\"\n",
    "for line in f:\n",
    "    if(\"3 White A\" in line):\n",
    "        temp.write(\"3 Blue A\")\n",
    "    else:\n",
    "        temp.write(line)\n",
    "#Close the files so you can call os methods on them\n",
    "f.close() #closes old grades files\n",
    "temp.close() #Closes new temp file\n",
    "#delete old file\n",
    "import os\n",
    "os.remove(\"grades.txt\")\n",
    "#Rename new file\n",
    "os.rename(\"temp.txt\",\"grades.txt\")\n",
    "\n"
   ]
  },
  {
   "cell_type": "markdown",
   "metadata": {
    "id": "CCzxKfyTO6kI"
   },
   "source": [
    "## Working with CSV files"
   ]
  },
  {
   "cell_type": "markdown",
   "metadata": {
    "id": "-QYu9LjTO6kJ"
   },
   "source": [
    "**Q4: Write the grades data into a \"grades.csv\" file using Python standard library module csv.**"
   ]
  },
  {
   "cell_type": "code",
   "execution_count": 4,
   "metadata": {},
   "outputs": [],
   "source": [
    "import csv\n",
    "\n",
    "#First step, write an index\n",
    "index = [\"Student ID\",\"Last Name\",\"Grade\"]\n",
    "\n",
    "#Next create a csv\n",
    "csv1= open(\"grades.csv\", \"x\")\n",
    "csv1.close()\n",
    "\n",
    "#open the grades file\n",
    "grades = open(\"grades.txt\", \"r\")\n",
    "\n",
    "#Now start writing to the csv from grades file, with the index first\n",
    "with open(\"grades.csv\", \"a\") as f:\n",
    "    write=csv.writer(f)\n",
    "    write.writerow(index)\n",
    "    for line in grades:\n",
    "        x=line.split()\n",
    "        write.writerow(x)\n",
    "#close stuff when done\n",
    "grades.close()\n",
    "f.close()\n",
    "        "
   ]
  },
  {
   "cell_type": "markdown",
   "metadata": {
    "id": "tklycKggO6kJ"
   },
   "source": [
    "**Q5: Now read the data from the CSV file and print the same.**"
   ]
  },
  {
   "cell_type": "code",
   "execution_count": 5,
   "metadata": {},
   "outputs": [
    {
     "name": "stdout",
     "output_type": "stream",
     "text": [
      "Student ID,Last Name,Grade\n",
      "\n",
      "\n",
      "\n",
      "1,Red,A\n",
      "\n",
      "\n",
      "\n",
      "2,Green,B\n",
      "\n",
      "\n",
      "\n",
      "3,Blue,A\n",
      "\n",
      "\n",
      "\n"
     ]
    }
   ],
   "source": [
    "#open it, print it, not much explanation needed\n",
    "with open(\"grades.csv\", \"r\") as f:\n",
    "    for row in f:\n",
    "        print(row)"
   ]
  },
  {
   "cell_type": "markdown",
   "metadata": {
    "id": "rS0FI3AZO6kK"
   },
   "source": [
    "**Q6: Reading CSV files into Pandas Data Frames**: \\\n",
    "Read the grades.csv int Pandas Data Frame"
   ]
  },
  {
   "cell_type": "code",
   "execution_count": 10,
   "metadata": {},
   "outputs": [
    {
     "data": {
      "text/html": [
       "<div>\n",
       "<style scoped>\n",
       "    .dataframe tbody tr th:only-of-type {\n",
       "        vertical-align: middle;\n",
       "    }\n",
       "\n",
       "    .dataframe tbody tr th {\n",
       "        vertical-align: top;\n",
       "    }\n",
       "\n",
       "    .dataframe thead th {\n",
       "        text-align: right;\n",
       "    }\n",
       "</style>\n",
       "<table border=\"1\" class=\"dataframe\">\n",
       "  <thead>\n",
       "    <tr style=\"text-align: right;\">\n",
       "      <th></th>\n",
       "      <th>Student ID</th>\n",
       "      <th>Last Name</th>\n",
       "      <th>Grade</th>\n",
       "    </tr>\n",
       "  </thead>\n",
       "  <tbody>\n",
       "    <tr>\n",
       "      <th>0</th>\n",
       "      <td>1</td>\n",
       "      <td>Red</td>\n",
       "      <td>A</td>\n",
       "    </tr>\n",
       "    <tr>\n",
       "      <th>1</th>\n",
       "      <td>2</td>\n",
       "      <td>Green</td>\n",
       "      <td>B</td>\n",
       "    </tr>\n",
       "    <tr>\n",
       "      <th>2</th>\n",
       "      <td>3</td>\n",
       "      <td>Blue</td>\n",
       "      <td>A</td>\n",
       "    </tr>\n",
       "  </tbody>\n",
       "</table>\n",
       "</div>"
      ],
      "text/plain": [
       "   Student ID Last Name Grade\n",
       "0           1       Red     A\n",
       "1           2     Green     B\n",
       "2           3      Blue     A"
      ]
     },
     "execution_count": 10,
     "metadata": {},
     "output_type": "execute_result"
    }
   ],
   "source": [
    "import pandas as pd\n",
    "#make a dataframe out of the csv\n",
    "df=pd.read_csv(\"grades.csv\")\n",
    "df.head()"
   ]
  },
  {
   "cell_type": "markdown",
   "metadata": {
    "id": "9kLaXMPzO6kL"
   },
   "source": [
    "**Q7: Save the data in the data frame to a csv file.** \\\n",
    "To save data frame to a file using CSV format, call DataFrame method to_csv"
   ]
  },
  {
   "cell_type": "code",
   "execution_count": 11,
   "metadata": {},
   "outputs": [],
   "source": [
    "#Now make a csv, out of the dataframe!\n",
    "dataframe_csv = df.to_csv(\"gradesDF.csv\")"
   ]
  },
  {
   "cell_type": "code",
   "execution_count": null,
   "metadata": {},
   "outputs": [],
   "source": []
  }
 ],
 "metadata": {
  "colab": {
   "name": "Assignment 2 - File Handling.ipynb",
   "provenance": []
  },
  "kernelspec": {
   "display_name": "Python 3",
   "language": "python",
   "name": "python3"
  },
  "language_info": {
   "codemirror_mode": {
    "name": "ipython",
    "version": 3
   },
   "file_extension": ".py",
   "mimetype": "text/x-python",
   "name": "python",
   "nbconvert_exporter": "python",
   "pygments_lexer": "ipython3",
   "version": "3.8.5"
  }
 },
 "nbformat": 4,
 "nbformat_minor": 1
}
