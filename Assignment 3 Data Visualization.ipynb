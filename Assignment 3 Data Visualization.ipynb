{
 "cells": [
  {
   "cell_type": "markdown",
   "metadata": {},
   "source": [
    "# Communicate Data Findings Using Ford GoBike System Data\n",
    "\n",
    "\n",
    "## Preliminary Wrangling\n",
    "\n",
    "> This data set includes information about individual rides made in a bike-sharing system covering the greater San Francisco\n",
    "Bay area.\n",
    "Attributes included in the data set are: trip duration, start time and end time with date, start station and end station names, start and end coordinates, customer type, year of birth and gender."
   ]
  },
  {
   "cell_type": "code",
   "execution_count": 1,
   "metadata": {},
   "outputs": [],
   "source": [
    "# import all packages and set plots to be embedded inline\n",
    "import numpy as np\n",
    "import pandas as pd\n",
    "import matplotlib.pyplot as plt\n",
    "import seaborn as sb\n",
    "import os\n",
    "\n",
    "%matplotlib inline"
   ]
  },
  {
   "cell_type": "markdown",
   "metadata": {},
   "source": [
    "> Load in your dataset and describe its properties through the questions below.\n",
    "Try and motivate your exploration goals through this section."
   ]
  },
  {
   "cell_type": "code",
   "execution_count": 13,
   "metadata": {
    "scrolled": true
   },
   "outputs": [
    {
     "data": {
      "text/html": [
       "<div>\n",
       "<style scoped>\n",
       "    .dataframe tbody tr th:only-of-type {\n",
       "        vertical-align: middle;\n",
       "    }\n",
       "\n",
       "    .dataframe tbody tr th {\n",
       "        vertical-align: top;\n",
       "    }\n",
       "\n",
       "    .dataframe thead th {\n",
       "        text-align: right;\n",
       "    }\n",
       "</style>\n",
       "<table border=\"1\" class=\"dataframe\">\n",
       "  <thead>\n",
       "    <tr style=\"text-align: right;\">\n",
       "      <th></th>\n",
       "      <th>bike_id</th>\n",
       "      <th>bike_share_for_all_trip</th>\n",
       "      <th>duration_sec</th>\n",
       "      <th>end_station_id</th>\n",
       "      <th>end_station_latitude</th>\n",
       "      <th>end_station_longitude</th>\n",
       "      <th>end_station_name</th>\n",
       "      <th>end_time</th>\n",
       "      <th>member_birth_year</th>\n",
       "      <th>member_gender</th>\n",
       "      <th>start_station_id</th>\n",
       "      <th>start_station_latitude</th>\n",
       "      <th>start_station_longitude</th>\n",
       "      <th>start_station_name</th>\n",
       "      <th>start_time</th>\n",
       "      <th>user_type</th>\n",
       "    </tr>\n",
       "  </thead>\n",
       "  <tbody>\n",
       "    <tr>\n",
       "      <th>0</th>\n",
       "      <td>96</td>\n",
       "      <td>NaN</td>\n",
       "      <td>80110</td>\n",
       "      <td>43.0</td>\n",
       "      <td>37.778768</td>\n",
       "      <td>-122.415929</td>\n",
       "      <td>San Francisco Public Library (Grove St at Hyde...</td>\n",
       "      <td>2018-01-01 15:12:50.2450</td>\n",
       "      <td>1987.0</td>\n",
       "      <td>Male</td>\n",
       "      <td>74.0</td>\n",
       "      <td>37.776435</td>\n",
       "      <td>-122.426244</td>\n",
       "      <td>Laguna St at Hayes St</td>\n",
       "      <td>2017-12-31 16:57:39.6540</td>\n",
       "      <td>Customer</td>\n",
       "    </tr>\n",
       "    <tr>\n",
       "      <th>1</th>\n",
       "      <td>88</td>\n",
       "      <td>NaN</td>\n",
       "      <td>78800</td>\n",
       "      <td>96.0</td>\n",
       "      <td>37.766210</td>\n",
       "      <td>-122.426614</td>\n",
       "      <td>Dolores St at 15th St</td>\n",
       "      <td>2018-01-01 13:49:55.6170</td>\n",
       "      <td>1965.0</td>\n",
       "      <td>Female</td>\n",
       "      <td>284.0</td>\n",
       "      <td>37.784872</td>\n",
       "      <td>-122.400876</td>\n",
       "      <td>Yerba Buena Center for the Arts (Howard St at ...</td>\n",
       "      <td>2017-12-31 15:56:34.8420</td>\n",
       "      <td>Customer</td>\n",
       "    </tr>\n",
       "    <tr>\n",
       "      <th>2</th>\n",
       "      <td>1094</td>\n",
       "      <td>NaN</td>\n",
       "      <td>45768</td>\n",
       "      <td>245.0</td>\n",
       "      <td>37.870348</td>\n",
       "      <td>-122.267764</td>\n",
       "      <td>Downtown Berkeley BART</td>\n",
       "      <td>2018-01-01 11:28:36.8830</td>\n",
       "      <td>NaN</td>\n",
       "      <td>NaN</td>\n",
       "      <td>245.0</td>\n",
       "      <td>37.870348</td>\n",
       "      <td>-122.267764</td>\n",
       "      <td>Downtown Berkeley BART</td>\n",
       "      <td>2017-12-31 22:45:48.4110</td>\n",
       "      <td>Customer</td>\n",
       "    </tr>\n",
       "    <tr>\n",
       "      <th>3</th>\n",
       "      <td>2831</td>\n",
       "      <td>NaN</td>\n",
       "      <td>62172</td>\n",
       "      <td>5.0</td>\n",
       "      <td>37.783899</td>\n",
       "      <td>-122.408445</td>\n",
       "      <td>Powell St BART Station (Market St at 5th St)</td>\n",
       "      <td>2018-01-01 10:47:23.5310</td>\n",
       "      <td>NaN</td>\n",
       "      <td>NaN</td>\n",
       "      <td>60.0</td>\n",
       "      <td>37.774520</td>\n",
       "      <td>-122.409449</td>\n",
       "      <td>8th St at Ringold St</td>\n",
       "      <td>2017-12-31 17:31:10.6360</td>\n",
       "      <td>Customer</td>\n",
       "    </tr>\n",
       "    <tr>\n",
       "      <th>4</th>\n",
       "      <td>3167</td>\n",
       "      <td>NaN</td>\n",
       "      <td>43603</td>\n",
       "      <td>247.0</td>\n",
       "      <td>37.867789</td>\n",
       "      <td>-122.265896</td>\n",
       "      <td>Fulton St at Bancroft Way</td>\n",
       "      <td>2018-01-01 02:29:57.5710</td>\n",
       "      <td>1997.0</td>\n",
       "      <td>Female</td>\n",
       "      <td>239.0</td>\n",
       "      <td>37.868813</td>\n",
       "      <td>-122.258764</td>\n",
       "      <td>Bancroft Way at Telegraph Ave</td>\n",
       "      <td>2017-12-31 14:23:14.0010</td>\n",
       "      <td>Subscriber</td>\n",
       "    </tr>\n",
       "  </tbody>\n",
       "</table>\n",
       "</div>"
      ],
      "text/plain": [
       "   bike_id bike_share_for_all_trip  duration_sec  end_station_id  \\\n",
       "0       96                     NaN         80110            43.0   \n",
       "1       88                     NaN         78800            96.0   \n",
       "2     1094                     NaN         45768           245.0   \n",
       "3     2831                     NaN         62172             5.0   \n",
       "4     3167                     NaN         43603           247.0   \n",
       "\n",
       "   end_station_latitude  end_station_longitude  \\\n",
       "0             37.778768            -122.415929   \n",
       "1             37.766210            -122.426614   \n",
       "2             37.870348            -122.267764   \n",
       "3             37.783899            -122.408445   \n",
       "4             37.867789            -122.265896   \n",
       "\n",
       "                                    end_station_name  \\\n",
       "0  San Francisco Public Library (Grove St at Hyde...   \n",
       "1                              Dolores St at 15th St   \n",
       "2                             Downtown Berkeley BART   \n",
       "3       Powell St BART Station (Market St at 5th St)   \n",
       "4                          Fulton St at Bancroft Way   \n",
       "\n",
       "                   end_time  member_birth_year member_gender  \\\n",
       "0  2018-01-01 15:12:50.2450             1987.0          Male   \n",
       "1  2018-01-01 13:49:55.6170             1965.0        Female   \n",
       "2  2018-01-01 11:28:36.8830                NaN           NaN   \n",
       "3  2018-01-01 10:47:23.5310                NaN           NaN   \n",
       "4  2018-01-01 02:29:57.5710             1997.0        Female   \n",
       "\n",
       "   start_station_id  start_station_latitude  start_station_longitude  \\\n",
       "0              74.0               37.776435              -122.426244   \n",
       "1             284.0               37.784872              -122.400876   \n",
       "2             245.0               37.870348              -122.267764   \n",
       "3              60.0               37.774520              -122.409449   \n",
       "4             239.0               37.868813              -122.258764   \n",
       "\n",
       "                                  start_station_name  \\\n",
       "0                              Laguna St at Hayes St   \n",
       "1  Yerba Buena Center for the Arts (Howard St at ...   \n",
       "2                             Downtown Berkeley BART   \n",
       "3                               8th St at Ringold St   \n",
       "4                      Bancroft Way at Telegraph Ave   \n",
       "\n",
       "                 start_time   user_type  \n",
       "0  2017-12-31 16:57:39.6540    Customer  \n",
       "1  2017-12-31 15:56:34.8420    Customer  \n",
       "2  2017-12-31 22:45:48.4110    Customer  \n",
       "3  2017-12-31 17:31:10.6360    Customer  \n",
       "4  2017-12-31 14:23:14.0010  Subscriber  "
      ]
     },
     "execution_count": 13,
     "metadata": {},
     "output_type": "execute_result"
    }
   ],
   "source": [
    "df = pd.read_csv('data.csv')\n",
    "df.head()"
   ]
  },
  {
   "cell_type": "markdown",
   "metadata": {},
   "source": [
    "### What is the structure of your dataset?\n",
    "\n",
    "> Your answer here!\n",
    "The data is a csv with 3254326 rows and 16 columns. It contains data about bike rides taken by a cycling tracking app of riders in the greater San Franscico, California area. The columns contain information about the start and finish locations of the ride, the riders themselves, duration, date and time of the ride, if it was a bike share trip, and whether the rider was a paid subscriber to the app or not. In short, it's the who, when, where, and a little bit of the why of bike rides.\n",
    "\n",
    "\n",
    "### What is/are the main feature(s) of interest in your dataset?\n",
    "\n",
    "> Your answer here!\n",
    "The most interesting feature to me is the id of the inddividual bikes themselves. It is an artificial key in the database but uniquely identfying each bike rentable in the service will lead to some interesting observations. Do people take the bikes back and forth between the same stations? Do people keep renting the same bike? Does each bike get rented each day? What station is a bike most likely to be rented at? There are numerous questions that could be asked.\n",
    "\n",
    "### What features in the dataset do you think will help support your investigation into your feature(s) of interest?\n",
    "\n",
    "> Your answer here!\n",
    "When the most interesting feature is statistics that can be concluded about the individual bikes, the bike ID will naturally be the most helpful for making conclusion. It is worth noting that that ID contains no actual information about the bike, so a bit paradoxically, the most helpful data column will have none of the data used for conclusions!"
   ]
  },
  {
   "cell_type": "markdown",
   "metadata": {},
   "source": [
    "## Univariate Exploration\n",
    "\n",
    "> In this section, investigate distributions of individual variables. If\n",
    "you see unusual points or outliers, take a deeper look to clean things up\n",
    "and prepare yourself to look at relationships between variables. You need to invistage at least 4 variables"
   ]
  },
  {
   "cell_type": "code",
   "execution_count": 5,
   "metadata": {},
   "outputs": [
    {
     "name": "stderr",
     "output_type": "stream",
     "text": [
      "C:\\Users\\Phillip\\anaconda3\\lib\\site-packages\\IPython\\core\\interactiveshell.py:3146: DtypeWarning: Columns (1) have mixed types.Specify dtype option on import or set low_memory=False.\n",
      "  has_raised = await self.run_ast_nodes(code_ast.body, cell_name,\n"
     ]
    },
    {
     "name": "stdout",
     "output_type": "stream",
     "text": [
      "[  10   11   12 ... 7106 7107 7108]\n"
     ]
    },
    {
     "data": {
      "text/plain": [
       "[<matplotlib.lines.Line2D at 0x1f25143a8e0>]"
      ]
     },
     "execution_count": 5,
     "metadata": {},
     "output_type": "execute_result"
    },
    {
     "data": {
      "image/png": "[encoded data removed]",
      "text/plain": [
       "<Figure size 432x288 with 1 Axes>"
      ]
     },
     "metadata": {
      "needs_background": "light"
     },
     "output_type": "display_data"
    }
   ],
   "source": [
    "#gonna start with a rediculously basic one. Is there any meaning to the value of the bike IDs?\n",
    "#This is to confirm our observation that it is an artificial key\n",
    "#Looking  at it, it appears to be an incremented integer so we should see a basic y=x+c if we graph this and confirm our theory.\n",
    "# import all packages and set plots to be embedded inline\n",
    "import numpy as np\n",
    "import pandas as pd\n",
    "import matplotlib.pyplot as plt\n",
    "import seaborn as sb\n",
    "import os\n",
    "\n",
    "%matplotlib inline\n",
    "\n",
    "df = pd.read_csv('data.csv')\n",
    "df.head()\n",
    "\n",
    "\n",
    "a = np.array(df[\"bike_id\"])\n",
    "a.sort()\n",
    "uniqueIDs=np.unique(a)\n",
    "print(uniqueIDs)\n",
    "plt.plot(uniqueIDs)\n",
    "\n",
    "\n",
    "#as we thought, the bike_id is an arbitrarily chosen first integer that is incremented by one for each bike since we see a\n",
    "#perfect y=x slope Bike_id is an artificial key.\n",
    "\n"
   ]
  },
  {
   "cell_type": "code",
   "execution_count": 11,
   "metadata": {},
   "outputs": [
    {
     "data": {
      "text/plain": [
       "Text(0, 0.5, 'Times Rented')"
      ]
     },
     "execution_count": 11,
     "metadata": {},
     "output_type": "execute_result"
    },
    {
     "data": {
      "image/png": "[encoded data removed]",
      "text/plain": [
       "<Figure size 432x288 with 1 Axes>"
      ]
     },
     "metadata": {
      "needs_background": "light"
     },
     "output_type": "display_data"
    }
   ],
   "source": [
    "#Next observation: each row represents an instance that a bike was rented through the app service.\n",
    "#Each time that a bike's ID shows up means that it was rented\n",
    "#Were any specific bikes rented significantly more than others? \n",
    "#A bar graph will let us see if any bikes are rented significantly more than others\n",
    "\n",
    "import numpy as np\n",
    "import pandas as pd\n",
    "import matplotlib.pyplot as plt\n",
    "import seaborn as sb\n",
    "import os\n",
    "\n",
    "%matplotlib inline\n",
    "\n",
    "df = pd.read_csv('data.csv')\n",
    "df.head()\n",
    "\n",
    "#There are 6930 unique values and 3254326 rows. This makes an average of 470(rounded) average number of rentals.\n",
    "a = np.array(df[\"bike_id\"])\n",
    "a.sort()\n",
    "unique, counts =np.unique(a, return_counts=True)\n",
    "#print(unique)\n",
    "#print(counts)\n",
    "plt.bar(unique,counts)\n",
    "plt.xlabel(\"Bike ID\")\n",
    "plt.ylabel(\"Times Rented\")\n"
   ]
  },
  {
   "cell_type": "code",
   "execution_count": 34,
   "metadata": {},
   "outputs": [
    {
     "data": {
      "text/plain": [
       "<BarContainer object of 394 artists>"
      ]
     },
     "execution_count": 34,
     "metadata": {},
     "output_type": "execute_result"
    },
    {
     "data": {
      "image/png": "[encoded data removed]",
      "text/plain": [
       "<Figure size 432x288 with 1 Axes>"
      ]
     },
     "metadata": {
      "needs_background": "light"
     },
     "output_type": "display_data"
    }
   ],
   "source": [
    "#It is VERY clear from the previous investigations that some bikes are rented far more tham others\n",
    "#Some were rented over 1,000 times, others so few times they didn't even show up on the chart.\n",
    "#The next thing I want to know is where are people going on the bikes?\n",
    "#Is there a similar distributions among the end stations?\n",
    "#Are certain destinations immensely more popular than others as is seen among the bikes?\n",
    "#Another bar chart will visualize the data of this well\n",
    "#Should go horizontal so that the station names are readable\n",
    "\n",
    "import numpy as np\n",
    "import pandas as pd\n",
    "import matplotlib.pyplot as plt\n",
    "import seaborn as sb\n",
    "import os\n",
    "\n",
    "%matplotlib inline\n",
    "\n",
    "df = pd.read_csv('data.csv')\n",
    "\n",
    "#np.unique() doesn't work on string arrays so gotta use a different technique\n",
    "a = np.array(df[\"end_station_name\"])\n",
    "unique= set(a)\n",
    "u=list(unique)\n",
    "b=list(a)\n",
    "s=len(unique)\n",
    "#now to count up all the values in the list.\n",
    "vals=[]\n",
    "x=0\n",
    "while(x<s):\n",
    "    vals.append(b.count(u[x]))\n",
    "    x=x+1\n",
    "\n",
    "y_pos=np.arange(len(u))\n",
    "plt.barh(y_pos,vals)\n"
   ]
  },
  {
   "cell_type": "code",
   "execution_count": 2,
   "metadata": {},
   "outputs": [
    {
     "name": "stdout",
     "output_type": "stream",
     "text": [
      "0\n",
      "394\n"
     ]
    },
    {
     "data": {
      "text/plain": [
       "<BarContainer object of 1 artists>"
      ]
     },
     "execution_count": 2,
     "metadata": {},
     "output_type": "execute_result"
    },
    {
     "data": {
      "image/png": "[encoded data removed]",
      "text/plain": [
       "<Figure size 432x288 with 1 Axes>"
      ]
     },
     "metadata": {
      "needs_background": "light"
     },
     "output_type": "display_data"
    }
   ],
   "source": [
    "#This bad graph shows an unexpected trend.\n",
    "#Are there really a large number of stations that no one goes to as it appears?\n",
    "#This will be easy to investigate as we can split the data we previously collected into zero and nonzero values\n",
    "import numpy as np\n",
    "import pandas as pd\n",
    "import matplotlib.pyplot as plt\n",
    "import seaborn as sb\n",
    "import os\n",
    "\n",
    "%matplotlib inline\n",
    "\n",
    "df = pd.read_csv('data.csv')\n",
    "a = np.array(df[\"end_station_name\"])\n",
    "unique= set(a)\n",
    "u=list(unique)\n",
    "b=list(a)\n",
    "s=len(unique)\n",
    "#now to count up all the values in the list.\n",
    "vals=[]\n",
    "x=0\n",
    "\n",
    "while(x<s):\n",
    "    vals.append(b.count(u[x]))\n",
    "    x=x+1\n",
    "\n",
    "#Now instead of bar graphing this, we cut it into zero and nonzeros.\n",
    "x=0\n",
    "zeros=0\n",
    "nonzeros=0\n",
    "while(x<len(vals)):\n",
    "    if(vals[x]==0):\n",
    "        zeros=zeros+1\n",
    "    else:\n",
    "        nonzeros=nonzeros+1\n",
    "    x=x+1\n",
    "\n",
    "#Now compare the lengths of the 2 bars\n",
    "\n",
    "print(zeros)\n",
    "print(nonzeros)\n",
    "\n",
    "plt.bar(zeros,nonzeros)\n",
    "\n",
    "\n",
    "#So every station did have at least one ride go to it after all, there are just a lot of very unpopular stations.\n",
    "#Is there a similar pattern with where rides start?"
   ]
  },
  {
   "cell_type": "code",
   "execution_count": 3,
   "metadata": {},
   "outputs": [
    {
     "data": {
      "text/plain": [
       "<BarContainer object of 394 artists>"
      ]
     },
     "execution_count": 3,
     "metadata": {},
     "output_type": "execute_result"
    },
    {
     "data": {
      "image/png": "[encoded data removed]",
      "text/plain": [
       "<Figure size 432x288 with 1 Axes>"
      ]
     },
     "metadata": {
      "needs_background": "light"
     },
     "output_type": "display_data"
    }
   ],
   "source": [
    "import numpy as np\n",
    "import pandas as pd\n",
    "import matplotlib.pyplot as plt\n",
    "import seaborn as sb\n",
    "import os\n",
    "\n",
    "%matplotlib inline\n",
    "\n",
    "df = pd.read_csv('data.csv')\n",
    "\n",
    "#np.unique() doesn't work on string arrays so gotta use a different technique\n",
    "a = np.array(df[\"start_station_name\"])\n",
    "unique= set(a)\n",
    "u=list(unique)\n",
    "b=list(a)\n",
    "s=len(unique)\n",
    "#now to count up all the values in the list.\n",
    "vals=[]\n",
    "x=0\n",
    "while(x<s):\n",
    "    vals.append(b.count(u[x]))\n",
    "    x=x+1\n",
    "\n",
    "y_pos=np.arange(len(u))\n",
    "plt.barh(y_pos,vals)\n",
    "#Again, there appears to be a large number of stations no one leaves from. Is this true?"
   ]
  },
  {
   "cell_type": "code",
   "execution_count": 4,
   "metadata": {},
   "outputs": [
    {
     "name": "stdout",
     "output_type": "stream",
     "text": [
      "0\n",
      "394\n"
     ]
    },
    {
     "data": {
      "text/plain": [
       "<BarContainer object of 1 artists>"
      ]
     },
     "execution_count": 4,
     "metadata": {},
     "output_type": "execute_result"
    },
    {
     "data": {
      "image/png": "[encoded data removed]",
      "text/plain": [
       "<Figure size 432x288 with 1 Axes>"
      ]
     },
     "metadata": {
      "needs_background": "light"
     },
     "output_type": "display_data"
    }
   ],
   "source": [
    "import numpy as np\n",
    "import pandas as pd\n",
    "import matplotlib.pyplot as plt\n",
    "import seaborn as sb\n",
    "import os\n",
    "\n",
    "%matplotlib inline\n",
    "\n",
    "df = pd.read_csv('data.csv')\n",
    "a = np.array(df[\"start_station_name\"])\n",
    "unique= set(a)\n",
    "u=list(unique)\n",
    "b=list(a)\n",
    "s=len(unique)\n",
    "#now to count up all the values in the list.\n",
    "vals=[]\n",
    "x=0\n",
    "\n",
    "while(x<s):\n",
    "    vals.append(b.count(u[x]))\n",
    "    x=x+1\n",
    "\n",
    "#Now instead of bar graphing this, we cut it into zero and nonzeros.\n",
    "x=0\n",
    "zeros=0\n",
    "nonzeros=0\n",
    "while(x<len(vals)):\n",
    "    if(vals[x]==0):\n",
    "        zeros=zeros+1\n",
    "    else:\n",
    "        nonzeros=nonzeros+1\n",
    "    x=x+1\n",
    "\n",
    "#Now compare the lengths of the 2 bars\n",
    "\n",
    "print(zeros)\n",
    "print(nonzeros)\n",
    "\n",
    "plt.bar(zeros,nonzeros)\n",
    "#Again, there is the same pattern, some stations are MUCH more popular than other "
   ]
  },
  {
   "cell_type": "code",
   "execution_count": 12,
   "metadata": {},
   "outputs": [
    {
     "name": "stderr",
     "output_type": "stream",
     "text": [
      "C:\\Users\\Phillip\\anaconda3\\lib\\site-packages\\IPython\\core\\interactiveshell.py:3146: DtypeWarning: Columns (1) have mixed types.Specify dtype option on import or set low_memory=False.\n",
      "  has_raised = await self.run_ast_nodes(code_ast.body, cell_name,\n"
     ]
    },
    {
     "name": "stdout",
     "output_type": "stream",
     "text": [
      "[80110 78800 45768 ...   292   471   356]\n"
     ]
    },
    {
     "name": "stderr",
     "output_type": "stream",
     "text": [
      "C:\\Users\\Phillip\\anaconda3\\lib\\fractions.py:420: RuntimeWarning: overflow encountered in longlong_scalars\n",
      "  return Fraction(a.numerator * db - b.numerator * da,\n"
     ]
    },
    {
     "name": "stdout",
     "output_type": "stream",
     "text": [
      "874\n",
      "557\n",
      "931.8411881860557\n"
     ]
    },
    {
     "data": {
      "text/plain": [
       "[<matplotlib.lines.Line2D at 0x1e9e920f280>]"
      ]
     },
     "execution_count": 12,
     "metadata": {},
     "output_type": "execute_result"
    },
    {
     "data": {
      "image/png": "[encoded data removed]",
      "text/plain": [
       "<Figure size 432x288 with 1 Axes>"
      ]
     },
     "metadata": {
      "needs_background": "light"
     },
     "output_type": "display_data"
    }
   ],
   "source": [
    "#Next, since I need to investigate a fourth variable, I want to look at the duration of rides.\n",
    "#How long do they last? What is the distribution of this information?\n",
    "#Will look at relationships with this data later\n",
    "import numpy as np\n",
    "import pandas as pd\n",
    "import matplotlib.pyplot as plt\n",
    "import seaborn as sb\n",
    "import os\n",
    "import statistics\n",
    "from scipy.stats import norm\n",
    "\n",
    "%matplotlib inline\n",
    "\n",
    "df = pd.read_csv('data.csv')\n",
    "a = np.array(df[\"duration_sec\"])\n",
    "print(a)\n",
    "\n",
    "mean=statistics.mean(a)\n",
    "med =statistics.median(a)\n",
    "sd = statistics.stdev(a)\n",
    "print(mean)\n",
    "print(med)\n",
    "print(sd)\n",
    "#plt.plot(x_axis, norm.pdf(x_axis, mean, sd))\n",
    "scale=10\n",
    "size=100\n",
    "b =norm.pdf(a, mean, sd)\n",
    "\n",
    "plt.plot(b)"
   ]
  },
  {
   "cell_type": "code",
   "execution_count": null,
   "metadata": {},
   "outputs": [],
   "source": []
  },
  {
   "cell_type": "markdown",
   "metadata": {},
   "source": [
    "> Make sure that, after every plot or related series of plots, that you\n",
    "include a Markdown cell with comments about what you observed, and what\n",
    "you plan on investigating next."
   ]
  },
  {
   "cell_type": "code",
   "execution_count": null,
   "metadata": {},
   "outputs": [],
   "source": [
    "Not sure what \"markdown plot\" mean but I left multiple code comments to the same effect throughout my cells"
   ]
  },
  {
   "cell_type": "markdown",
   "metadata": {},
   "source": [
    "### Discuss the distribution(s) of your variable(s) of interest. Were there any unusual points? Did you need to perform any transformations?\n",
    "\n",
    "> Your answer here!\n",
    "Yes, there was an extreme variance within the stations, with some stations being utilized thousands of times, others only being utilized a few times. I didn't do any tranformations because I'm going to investigate this more deeply when I explore the relationships between some of the variables in the next section.\n",
    "\n",
    "### Of the features you investigated, were there any unusual distributions? Did you perform any operations on the data to tidy, adjust, or change the form of the data? If so, why did you do this?\n",
    "\n",
    "> Your answer here!\n",
    "The stations had a distribution that was unexpected. I checked that there was no error that there were stations no one ever visited counted within the counts. "
   ]
  },
  {
   "cell_type": "markdown",
   "metadata": {},
   "source": [
    "## Bivariate Exploration\n",
    "\n",
    "> In this section, investigate relationships between pairs of variables in your\n",
    "data. Make sure the variables that you cover here have been introduced in some\n",
    "fashion in the previous section (univariate exploration). \n",
    "You need to invistage at least 4 pairs variables."
   ]
  },
  {
   "cell_type": "code",
   "execution_count": 45,
   "metadata": {},
   "outputs": [
    {
     "name": "stderr",
     "output_type": "stream",
     "text": [
      "C:\\Users\\Phillip\\anaconda3\\lib\\site-packages\\IPython\\core\\interactiveshell.py:3146: DtypeWarning: Columns (1) have mixed types.Specify dtype option on import or set low_memory=False.\n",
      "  has_raised = await self.run_ast_nodes(code_ast.body, cell_name,\n"
     ]
    },
    {
     "data": {
      "image/png": "[encoded data removed]",
      "text/plain": [
       "<Figure size 432x288 with 1 Axes>"
      ]
     },
     "metadata": {},
     "output_type": "display_data"
    }
   ],
   "source": [
    "#First, I will look at the stations. Are the most popular end stations also the most common start stations?\n",
    "#Let's look at the top 20 end stations to confirm\n",
    "import numpy as np\n",
    "import pandas as pd\n",
    "import matplotlib.pyplot as plt\n",
    "import seaborn as sb\n",
    "import os\n",
    "import statistics as stat #built in module for means standard dev and such\n",
    "\n",
    "#Need to get every station uniquely, then count up instances of it.\n",
    "df = pd.read_csv('data.csv')\n",
    "#make a dictionary of the station name, times gone to, times starting from.\n",
    "#Graph the top 20 as a double bar graph\n",
    "\n",
    "#first get the unique values of strings.\n",
    "a = np.array(df[\"end_station_name\"])\n",
    "unique= set(a)\n",
    "u=list(unique)\n",
    "b = list(a)\n",
    "\n",
    "EndStations = {\n",
    "    \"Name\": 0, #placeholder, name and number of times a station is visited\n",
    "}\n",
    "#vals=[]\n",
    "x=0\n",
    "while (x<len(u)):\n",
    "    EndStations.update({u[x]: b.count(u[x])})\n",
    "    #vals.append(b.count(u[x]))\n",
    "    x=x+1\n",
    "#now sort the dictionary and keep the first 15 values\n",
    "sortedEnds ={}\n",
    "sorted_keys=sorted(EndStations, key = EndStations.get, reverse=True)\n",
    "for w in sorted_keys:\n",
    "    sortedEnds[w]=EndStations[w]\n",
    "\n",
    "    \n",
    "#We now have a sorted dictionary. Let's take a list of the first 20 keys\n",
    "top20 = list(sortedEnds.keys())[:20]\n",
    "top20v = list(sortedEnds.values())[:20]\n",
    "\n",
    "#Now we count up all the starting locations, and cross check the dictionary\n",
    "c = np.array(df[\"start_station_name\"])\n",
    "unique2=set(c)\n",
    "#u2=list(unique2)\n",
    "d=list(c)\n",
    "x=0\n",
    "\n",
    "startStations={}\n",
    "\n",
    "while (x<len(top20)):\n",
    "    startStations.update({top20[x]: d.count(top20[x])})\n",
    "    x=x+1\n",
    "\n",
    "#Now to graph this metaphorical puppy  \n",
    "plt.style.use(\"ggplot\")\n",
    "n=20\n",
    "fig, ax = plt.subplots()\n",
    "index=np.arange(n)\n",
    "bar_width=0.3\n",
    "opacity=0.9\n",
    "ax.bar(index, top20v, bar_width, alpha=opacity, color='r', label='End')\n",
    "ax.bar(index+bar_width, startStations.values(), bar_width, color='b', label='Start')\n",
    "\n",
    "ax.set_xlabel(\"End vs Start Stations\")\n",
    "ax.set_ylabel(\"Times used as\")\n",
    "ax.set_title(\"top 20 ending stations\")\n",
    "ax.set_xticks(index+bar_width/2)\n",
    "ax.set_xticklabels(top20, rotation=90)\n",
    "ax.legend()\n",
    "plt.show()\n",
    "\n",
    "#So some stations have significantly more use as an endpoint than a starting point. \n",
    "#Specifically, the five most common end points are used as a starting point significantly less.\n",
    "#Does the inverse of this hold true as well?\n",
    "#Are the 5 most common starting points used as an end point far less?\n",
    "\n",
    "   "
   ]
  },
  {
   "cell_type": "code",
   "execution_count": 49,
   "metadata": {},
   "outputs": [
    {
     "name": "stderr",
     "output_type": "stream",
     "text": [
      "C:\\Users\\Phillip\\anaconda3\\lib\\site-packages\\IPython\\core\\interactiveshell.py:3146: DtypeWarning: Columns (1) have mixed types.Specify dtype option on import or set low_memory=False.\n",
      "  has_raised = await self.run_ast_nodes(code_ast.body, cell_name,\n"
     ]
    },
    {
     "data": {
      "image/png": "[encoded data removed]",
      "text/plain": [
       "<Figure size 432x288 with 1 Axes>"
      ]
     },
     "metadata": {},
     "output_type": "display_data"
    }
   ],
   "source": [
    "#Is the inverse of the previous also true? That is, the 5 most popular start stations are used far less as end stations?\n",
    "import numpy as np\n",
    "import pandas as pd\n",
    "import matplotlib.pyplot as plt\n",
    "import seaborn as sb\n",
    "import os\n",
    "import statistics as stat #built in module for means standard dev and such\n",
    "\n",
    "#Need to get every station uniquely, then count up instances of it.\n",
    "df = pd.read_csv('data.csv')\n",
    "#make a dictionary of the station name, times gone to, times starting from.\n",
    "#Graph the top 20 as a double bar graph\n",
    "\n",
    "#first get the unique values of strings.\n",
    "a = np.array(df[\"start_station_name\"])\n",
    "unique= set(a)\n",
    "u=list(unique)\n",
    "b = list(a)\n",
    "\n",
    "StartStations = {\n",
    "    \"Name\": 0, #placeholder, name and number of times a station is visited\n",
    "}\n",
    "#vals=[]\n",
    "\n",
    "x=0\n",
    "while (x<len(u)):\n",
    "    StartStations.update({u[x]: b.count(u[x])})\n",
    "    #vals.append(b.count(u[x]))\n",
    "    x=x+1\n",
    "#now sort the dictionary and keep the first 20 values\n",
    "sortedStarts ={}\n",
    "sorted_keys=sorted(StartStations, key = StartStations.get, reverse=True)\n",
    "for w in sorted_keys:\n",
    "    sortedStarts[w]=StartStations[w]\n",
    "\n",
    "    \n",
    "#We now have a sorted dictionary. Let's take a list of the first 20 keys\n",
    "top20 = list(sortedStarts.keys())[:20]\n",
    "top20v = list(sortedStarts.values())[:20]\n",
    "\n",
    "#Now we count up all the starting locations, and cross check the dictionary\n",
    "c = np.array(df[\"end_station_name\"])\n",
    "unique2=set(c)\n",
    "#u2=list(unique2)\n",
    "d=list(c)\n",
    "x=0\n",
    "\n",
    "endStations={}\n",
    "\n",
    "while (x<len(top20)):\n",
    "    endStations.update({top20[x]: d.count(top20[x])})\n",
    "    x=x+1\n",
    "\n",
    "#Now to graph this metaphorical puppy  \n",
    "plt.style.use(\"ggplot\")\n",
    "n=20\n",
    "fig, ax = plt.subplots()\n",
    "index=np.arange(n)\n",
    "bar_width=0.3\n",
    "opacity=0.9\n",
    "ax.bar(index, startStations.values(), bar_width, alpha=opacity, color='r', label='End')\n",
    "ax.bar(index+bar_width, top20v, bar_width, color='b', label='Start')\n",
    "\n",
    "ax.set_xlabel(\"Start vs End Stations\")\n",
    "ax.set_ylabel(\"Times used as\")\n",
    "ax.set_title(\"top 20 starting stations\")\n",
    "ax.set_xticks(index+bar_width/2)\n",
    "ax.set_xticklabels(top20, rotation=90)\n",
    "ax.legend()\n",
    "plt.show()\n",
    "\n",
    "#So the inverse is not true\n",
    "#The most common starting stations do not have a lot more departing bikes than arriving bikes\n",
    "#The opposite is true, most of them in fact, have more arriving bikes than departing bikes\n",
    "#It can be inferred from this that in general, there is a flow of bikes from the less popular stations to the most.\n",
    "#Someone managing this transportation system should be aware of this to make sure that all the bikes don't \"pile up\"\n",
    "#at just the most popular stations. Have trucks or similar occassionally drop off bikes from the large to small stations"
   ]
  },
  {
   "cell_type": "code",
   "execution_count": null,
   "metadata": {},
   "outputs": [
    {
     "name": "stdout",
     "output_type": "stream",
     "text": [
      "[4452, 4319, 4464, 1161, 4320, 4417, 2663, 2692, 2545, 4318, 2016, 4390, 232, 3379, 2174, 4405, 2387, 1396, 2185, 4343, 3961]\n",
      "[4532, 4388, 4545, 1182, 4389, 4494, 2684, 2713, 2566, 4387, 2037, 4461, 242, 3407, 2195, 4481, 2408, 1417, 2206, 4412, 4010]\n",
      "874.3222548454748\n"
     ]
    }
   ],
   "source": [
    "#Do the bikes that get rented more have longer or shorter rides?\n",
    "#First get a list of the most commonly rented bikes\n",
    "#Is the inverse of the previous also true? That is, the 5 most popular start stations are used far less as end stations?\n",
    "import numpy as np\n",
    "import pandas as pd\n",
    "import matplotlib.pyplot as plt\n",
    "import seaborn as sb\n",
    "import os\n",
    "import statistics as stat #built in module for means standard dev and such\n",
    "\n",
    "#dataframe\n",
    "df = pd.read_csv('data.csv')\n",
    "\n",
    "a = np.array(df[\"bike_id\"])\n",
    "b = np.array(df[\"duration_sec\"])\n",
    "IDs, count =np.unique(a, return_counts=True)\n",
    "\n",
    "counts=list(count)\n",
    "x=0\n",
    "idList=[]\n",
    "while(x<21):\n",
    "        temp=counts.index(max(counts))\n",
    "        idList.append(IDs[temp])\n",
    "        counts[temp]=0\n",
    "        x=x+1\n",
    "print(idList)\n",
    "\n",
    "mostRentedIDs=[]\n",
    "for y in idList:\n",
    "    mostRentedIDs.append(IDs[y])\n",
    "print(mostRentedIDs)\n",
    "\n",
    "avgTime=stat.mean(df[\"duration_sec\"])\n",
    "print(avgTime)\n",
    "\n",
    "#add up the average duration of the IDs that were there\n",
    "x=0 \n",
    "z=0\n",
    "val=0\n",
    "count=0\n",
    "top20avg=[]\n",
    "while(x<(len(mostRentedIDs))-1):\n",
    "    if(z==len(a)):\n",
    "        top20avg.append(avg)\n",
    "        #print(top20avg)\n",
    "        #print(x)\n",
    "        z=0\n",
    "        x+=1\n",
    "    if(mostRentedIDs[x]==a[z]):\n",
    "        val+=b[z]\n",
    "        count+=1\n",
    "        avg=val/count\n",
    "    z+=1\n",
    "    \n",
    "above =[]\n",
    "below =[]\n",
    "\n",
    "x=0\n",
    "while(x<len(top20avg)):\n",
    "    if(top20avg[x]<avgTime):\n",
    "        below.append(top20avg[x])\n",
    "    if(top20avg[x]>avgTime):\n",
    "        above.append(top20avg[x])\n",
    "    x+=1\n",
    "fig=plt.figure()\n",
    "fig_range=[500,525,550,575,600,625,650,675,700,725,750,775,800,825,850,875,900,925,950,975]\n",
    "ax.scatter(below,fig_range,  color='teal')\n",
    "ax.scatter(above,above,  color='orange')\n",
    "ax=fig.add_axes([0,0,50,50])\n",
    "ax.set_xlabel(\"Teal dots represent bikes with shorter than avg ride times, orange above\")\n",
    "ax.set_ylabel(\"Average Ride Duration\")\n",
    "ax.set_title(\"Average ride times of most used bikes\")\n",
    "plt.show()\n",
    "#print(a)\n",
    "#print(b)\n",
    "#We now hav an array of the IDs and the counts ordered with each other. \n",
    "#sortedCounts=list(counts)\n",
    "#sortedCounts.sort(reverse=True)\n",
    "#sortedCounts=sortedCounts[:20]\n",
    "#print(sortedCounts)\n",
    "\n",
    "#Now get the index of the ids that correlate to the most rented bikes\n",
    "\n",
    "\n",
    "#Need an array of the most rented bike IDs not the counts\n",
    "\n",
    "#we know from previous cells that there are 394 bikes in the service. Let's round that to 400, then consider the top 5%, or 20\n",
    "#We'll make a plot of 2 bars, the average duration the top 20 bikes are ridden, and the other bar will be the average\n",
    "#The y axis should be time\n",
    "#A scatter plot would be best for this\n",
    "\n",
    "#Now to work on the time aspect. Calculate the average\n",
    "#"
   ]
  },
  {
   "cell_type": "code",
   "execution_count": null,
   "metadata": {},
   "outputs": [],
   "source": [
    "#Do the bikes that get rented more tend to go to the most popular endpoints?"
   ]
  },
  {
   "cell_type": "markdown",
   "metadata": {},
   "source": [
    "### Talk about some of the relationships you observed in this part of the investigation. How did the feature(s) of interest vary with other features in the dataset?\n",
    "\n",
    "> Your answer here!\n",
    "\n",
    "### Did you observe any interesting relationships between the other features (not the main feature(s) of interest)?\n",
    "\n",
    "> Your answer here!"
   ]
  },
  {
   "cell_type": "markdown",
   "metadata": {},
   "source": [
    "## Multivariate Exploration\n",
    "\n",
    "> Create plots of three or more variables to investigate your data even\n",
    "further. Make sure that your investigations are justified, and follow from\n",
    "your work in the previous sections. You need to generate at least 2 plots for this section."
   ]
  },
  {
   "cell_type": "code",
   "execution_count": null,
   "metadata": {},
   "outputs": [],
   "source": []
  },
  {
   "cell_type": "markdown",
   "metadata": {},
   "source": [
    "### Talk about some of the relationships you observed in this part of the investigation. Were there features that strengthened each other in terms of looking at your feature(s) of interest?\n",
    "\n",
    "> Your answer here!\n",
    "\n",
    "### Were there any interesting or surprising interactions between features?\n",
    "\n",
    "> Your answer here!"
   ]
  }
 ],
 "metadata": {
  "kernelspec": {
   "display_name": "Python 3",
   "language": "python",
   "name": "python3"
  },
  "language_info": {
   "codemirror_mode": {
    "name": "ipython",
    "version": 3
   },
   "file_extension": ".py",
   "mimetype": "text/x-python",
   "name": "python",
   "nbconvert_exporter": "python",
   "pygments_lexer": "ipython3",
   "version": "3.8.5"
  }
 },
 "nbformat": 4,
 "nbformat_minor": 2
}
