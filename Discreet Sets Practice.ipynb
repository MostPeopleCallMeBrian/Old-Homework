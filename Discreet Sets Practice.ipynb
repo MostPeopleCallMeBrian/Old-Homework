{
 "cells": [
  {
   "cell_type": "code",
   "execution_count": 1,
   "metadata": {},
   "outputs": [
    {
     "ename": "AttributeError",
     "evalue": "'dict' object has no attribute 'add'",
     "output_type": "error",
     "traceback": [
      "\u001b[1;31m---------------------------------------------------------------------------\u001b[0m",
      "\u001b[1;31mAttributeError\u001b[0m                            Traceback (most recent call last)",
      "\u001b[1;32m<ipython-input-1-5942613ddab0>\u001b[0m in \u001b[0;36m<module>\u001b[1;34m()\u001b[0m\n\u001b[0;32m      3\u001b[0m \u001b[1;33m\u001b[0m\u001b[0m\n\u001b[0;32m      4\u001b[0m \u001b[1;31m#adding some stuff to the set\u001b[0m\u001b[1;33m\u001b[0m\u001b[1;33m\u001b[0m\u001b[0m\n\u001b[1;32m----> 5\u001b[1;33m \u001b[0mexample\u001b[0m\u001b[1;33m.\u001b[0m\u001b[0madd\u001b[0m\u001b[1;33m(\u001b[0m\u001b[1;34m'My Lightsaber'\u001b[0m\u001b[1;33m,\u001b[0m \u001b[1;34m'42'\u001b[0m\u001b[1;33m,\u001b[0m \u001b[1;34m'Thorium'\u001b[0m\u001b[1;33m,\u001b[0m \u001b[1;34m'False'\u001b[0m\u001b[1;33m,\u001b[0m \u001b[1;34m'pi'\u001b[0m\u001b[1;33m)\u001b[0m\u001b[1;33m\u001b[0m\u001b[0m\n\u001b[0m\u001b[0;32m      6\u001b[0m \u001b[1;33m\u001b[0m\u001b[0m\n\u001b[0;32m      7\u001b[0m \u001b[1;31m#computing the length\u001b[0m\u001b[1;33m\u001b[0m\u001b[1;33m\u001b[0m\u001b[0m\n",
      "\u001b[1;31mAttributeError\u001b[0m: 'dict' object has no attribute 'add'"
     ]
    }
   ],
   "source": [
    "#Making the empty set\n",
    "example = {}\n",
    "\n",
    "#adding some stuff to the set\n",
    "example.add('My Lightsaber', '42', 'Thorium', 'False', 'pi')\n",
    "\n",
    "#computing the length\n",
    "SetLength = len(example)\n",
    "\n",
    "#removing 42\n",
    "example.remove('42')\n",
    "\n",
    "#Making another set\n",
    "example2 = set(('28', 'True', '2.71828', 'Helium'))\n",
    "\n",
    "#Clearing example2\n",
    "example2.clear()\n",
    "\n",
    "#Making the other sets\n",
    "odds={1,3,5,7,9}\n",
    "evens={2,4,6,8,10}\n",
    "primes={2,3,5,7}\n",
    "composites={4,6,8,9,10}\n",
    "\n",
    "#intersection of odds and primes\n",
    "OPintersection = odds.intersection(primes)\n",
    "\n",
    "#union of primes and composites\n",
    "PCunion = primes.union(composites)\n"
   ]
  },
  {
   "cell_type": "code",
   "execution_count": null,
   "metadata": {},
   "outputs": [],
   "source": []
  }
 ],
 "metadata": {
  "kernelspec": {
   "display_name": "Python 3",
   "language": "python",
   "name": "python3"
  },
  "language_info": {
   "codemirror_mode": {
    "name": "ipython",
    "version": 3
   },
   "file_extension": ".py",
   "mimetype": "text/x-python",
   "name": "python",
   "nbconvert_exporter": "python",
   "pygments_lexer": "ipython3",
   "version": "3.7.0"
  }
 },
 "nbformat": 4,
 "nbformat_minor": 2
}
