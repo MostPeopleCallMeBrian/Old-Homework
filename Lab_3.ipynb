{
 "cells": [
  {
   "cell_type": "markdown",
   "metadata": {
    "id": "d8aJ8mliETIG"
   },
   "source": [
    "Agustin Lopez\n",
    "Brian Conway"
   ]
  },
  {
   "cell_type": "markdown",
   "metadata": {
    "id": "eBjh6KIleVgC"
   },
   "source": [
    "# New Section"
   ]
  },
  {
   "cell_type": "code",
   "execution_count": 1,
   "metadata": {
    "id": "_iEvPsyMJNjF"
   },
   "outputs": [],
   "source": [
    "# import pandas as pd\n",
    "\n",
    "#Create the column names we want in our csv\n",
    "# column_labels = ['Name', 'Gender', 'SSN', 'Age', 'Birth Address', 'Current Address', 'Current State', 'Current latitude', 'current longitude', 'S1', 'S2', 'S3']\n",
    "\n",
    "# read_file = pd.read_csv('/content/sample_data/raw_data.txt')\n",
    "\n",
    "# read_file.columns = ['Name', 'Gender', 'SSN', 'Age', 'Birth Address', 'Current Address', 'Current State', 'Current latitude', 'current longitude', 'S1', 'S2', 'S3']\n",
    "# read_file.to_csv('test.csv', index= None)\n",
    "# read_file\n",
    "\n"
   ]
  },
  {
   "cell_type": "code",
   "execution_count": 2,
   "metadata": {
    "id": "XN2q4cMjyU3C"
   },
   "outputs": [],
   "source": [
    "#Create an empty dataframe where we can place our data \n",
    "# read_df = {'Name':[], 'Gender':[], 'SSN':[], 'Age':[], 'Birth Address':[], 'Current Address':[], 'Current State':[], 'Current latitude':[], 'current longitude':[], 'S1':[], 'S2':[], 'S3':[]}\n",
    "# csv_df = pd.DataFrame(read_df)"
   ]
  },
  {
   "cell_type": "code",
   "execution_count": 3,
   "metadata": {
    "id": "WLDZGHLN1CQ9"
   },
   "outputs": [],
   "source": [
    "# csv_df.insert(0, \"someone\")\n",
    "# csv_df"
   ]
  },
  {
   "cell_type": "code",
   "execution_count": 4,
   "metadata": {
    "id": "JH-2zVa9wBej"
   },
   "outputs": [],
   "source": [
    "#Steps on how to go about this homework\n",
    "\n",
    "# 0. Create an empty dataframe where we can place data \n",
    "\n",
    "# 1. Read the text line by line \n",
    "\n",
    "# 2. Grab the usefull data from each line into the dataframe\n",
    "\n",
    "# 3. When we reach --End of record-- start on a new row but continue adding data"
   ]
  },
  {
   "cell_type": "code",
   "execution_count": 5,
   "metadata": {
    "id": "GRdE8gR--_yM"
   },
   "outputs": [],
   "source": [
    "import pandas as pd\n",
    "import re\n",
    "\n",
    "#initilize series \n",
    "name=[]\n",
    "gender=[]\n",
    "SSN=[]\n",
    "age=[]\n",
    "BirthAddress=[]\n",
    "CurrentResidence=[]\n",
    "CurrentState=[]\n",
    "ResidenceLatitude=[]\n",
    "ResidenceLongitude= []\n",
    "S1answer=[]\n",
    "S2answer=[]\n",
    "S3answer =[]"
   ]
  },
  {
   "cell_type": "code",
   "execution_count": 8,
   "metadata": {
    "id": "u8THvCN9APJH"
   },
   "outputs": [],
   "source": [
    "read_file =  open(\"raw_data.txt\", \"r\")\n",
    "\n",
    "ignore_cases = 'Dr Mr Mrs Ms'\n",
    "\n",
    "for line in read_file:\n",
    "  # Looking for the patients name\n",
    "  current_name = re.search('The patient is (.*?)\\.', line)\n",
    "  current_gender = re.search('(?:^|\\W)She|He(?:$|\\W)', line)\n",
    "\n",
    "  # current_birth_year = re.search('born on ([0-9][0-9]{3})\\-', line)\n",
    "\n",
    "  current_birth_year = re.search('[0-9][0-9][0-9][0-9]-[0-9][0-9]-[0-9][0-9]', line)\n",
    "\n",
    "  birth_address = re.search('\\d at (.*?)\\(' , line)\n",
    "  current_address = re.search('currently resides at (.*?)\\(', line )\n",
    "  current_LongitudeAndLatitude = re.search('[A-Z][A-Z] [\\d][\\d][\\d][\\d][\\d] \\((.*?)\\)', line)\n",
    "\n",
    "  current_LongitudeAndLatitude = re.search('^(?=.*currently)(?=.*lat).*$', line)\n",
    "\n",
    "  patience_SSN =re.search('\\d\\d\\d-\\d\\d-\\d\\d\\d\\d',line)\n",
    "  S1_answer = re.search('with my life\\': (.*)', line)\n",
    "  S2_answer = re.search('in good health\\': (.*)', line)\n",
    "  S3_answer = re.search('interactions in my community\\': (.*)', line)\n",
    "\n",
    "\n",
    "  # checking to see if its empty or not\n",
    "  if isinstance(current_name, re.Match):\n",
    "    #This if statement checks for an error with the regex search where it only reads DR., MR/S, MS \n",
    "    if current_name.group(1) in ignore_cases:\n",
    "      #Ms. not being caust for some reason???\n",
    "      current_name = re.search('The patient is (?:Mr\\.|Mrs\\.|Dr\\.|Ms\\.) (.*?)\\.', line)\n",
    "      # print(current_name.group(1))\n",
    "      name.append(current_name.group(1))\n",
    "    else:\n",
    "      name.append(current_name.group(1))\n",
    "      # print(current_name.group(1))\n",
    "\n",
    "\n",
    "  # #Get the current gender of the patient\n",
    "  if isinstance(current_gender, re.Match):\n",
    "    if \"He\" in current_gender.group(0):\n",
    "      gender.append(\"Male\")\n",
    "    else:\n",
    "      gender.append(\"Female\")\n",
    "\n",
    "  # Get the current age of the patient\n",
    "  if isinstance(current_birth_year, re.Match):\n",
    "    birth_year = int(current_birth_year.group(0)[0:4])\n",
    "    age.append(2021 - birth_year)\n",
    "\n",
    "\n",
    "  #Get the birth address of the patient\n",
    "  if isinstance(birth_address, re.Match):\n",
    "    BirthAddress.append(birth_address.group(1))\n",
    "\n",
    "  #Get the complete address and the current state and \n",
    "  if isinstance(current_address, re.Match):\n",
    "    CurrentResidence.append(current_address.group(1))\n",
    "    Current_State = re.search('[A-Z][A-Z]', line)\n",
    "    CurrentState.append(Current_State.group(0))\n",
    "\n",
    "  #Get The patients current longitude and latitude\n",
    "  if isinstance(current_LongitudeAndLatitude, re.Match):\n",
    "    current_Latitude = re.search('lat: (.*?)\\,', current_LongitudeAndLatitude.group(0))\n",
    "    ResidenceLatitude.append(current_Latitude.group(1))\n",
    "\n",
    "    current_longitude = re.search('long: (.*)', current_LongitudeAndLatitude.group(0))\n",
    "    ResidenceLongitude.append(current_longitude.group(1))\n",
    "\n",
    "  #Get patience Social security number\n",
    "  if isinstance(patience_SSN, re.Match):\n",
    "    SSN.append(patience_SSN.group(0))\n",
    "\n",
    "  #look for the asnwers for S1 for this patient\n",
    "  if isinstance(S1_answer, re.Match):\n",
    "    S1answer.append(S1_answer.group(1))\n",
    "  \n",
    "  #look for the asnwers for S1 for this patient\n",
    "  if isinstance(S2_answer, re.Match):\n",
    "    S2answer.append(S2_answer.group(1))\n",
    "\n",
    "  #look for the asnwers for S1 for this patient\n",
    "  if isinstance(S3_answer, re.Match):\n",
    "    S3answer.append(S3_answer.group(1))\n"
   ]
  },
  {
   "cell_type": "code",
   "execution_count": null,
   "metadata": {
    "colab": {
     "base_uri": "https://localhost:8080/"
    },
    "id": "1EQLgCftzgkm",
    "outputId": "dc19b8ae-d8ff-4fbb-a3d5-e22040dead5a"
   },
   "outputs": [],
   "source": [
    "print(len(ResidenceLatitude))\n",
    "print(len(ResidenceLongitude))"
   ]
  },
  {
   "cell_type": "code",
   "execution_count": null,
   "metadata": {
    "colab": {
     "base_uri": "https://localhost:8080/"
    },
    "id": "MfeVw0JfBHJ2",
    "outputId": "aa0e60bf-cd98-4044-fa89-1226ecf0c220"
   },
   "outputs": [],
   "source": [
    "ResidenceLatitude"
   ]
  },
  {
   "cell_type": "code",
   "execution_count": null,
   "metadata": {
    "colab": {
     "base_uri": "https://localhost:8080/"
    },
    "id": "3M6NiYl7GZLW",
    "outputId": "77821674-65f8-4883-f4df-973f2476e809"
   },
   "outputs": [],
   "source": [
    "#Getting different numbers for some reason?\n",
    "print(len(gender))\n",
    "print(len(name)) \n",
    "print(len(age)) #Age is a problem\n",
    "print(len(SSN)) \n",
    "print(len(BirthAddress)) \n",
    "print(len(CurrentResidence)) \n",
    "print(len(CurrentState)) \n",
    "print(len(ResidenceLatitude))  #This is also a problem\n",
    "print(len(ResidenceLongitude))  #This is also a problem\n",
    "print(len(S1answer)) \n",
    "print(len(S2answer))\n",
    "print(len(S3answer))\n"
   ]
  },
  {
   "cell_type": "code",
   "execution_count": null,
   "metadata": {
    "id": "8PIE7sT8wpaS"
   },
   "outputs": [],
   "source": [
    "lab_Data = {'Name':name, 'Gender':gender,}"
   ]
  },
  {
   "cell_type": "markdown",
   "metadata": {
    "id": "xbhFaqzEQHJR"
   },
   "source": []
  },
  {
   "cell_type": "code",
   "execution_count": null,
   "metadata": {
    "colab": {
     "base_uri": "https://localhost:8080/",
     "height": 306
    },
    "id": "eOqSfNnwvisc",
    "outputId": "9c3fa9ee-1338-4cc9-ef03-35dbd04062ed"
   },
   "outputs": [],
   "source": [
    "lab3_df = pd.DataFrame(data=lab_Data)"
   ]
  },
  {
   "cell_type": "code",
   "execution_count": null,
   "metadata": {
    "colab": {
     "base_uri": "https://localhost:8080/",
     "height": 419
    },
    "id": "Qqe8ZWVxw44W",
    "outputId": "bd717b27-ee76-4121-dece-4cdb211e6afb"
   },
   "outputs": [],
   "source": [
    "lab3_df"
   ]
  },
  {
   "cell_type": "code",
   "execution_count": null,
   "metadata": {
    "id": "HQ5-NRu4wedF"
   },
   "outputs": [],
   "source": [
    "lab3_df ="
   ]
  }
 ],
 "metadata": {
  "colab": {
   "collapsed_sections": [],
   "name": "Lab 3.ipynb",
   "provenance": []
  },
  "kernelspec": {
   "display_name": "Python 3",
   "language": "python",
   "name": "python3"
  },
  "language_info": {
   "codemirror_mode": {
    "name": "ipython",
    "version": 3
   },
   "file_extension": ".py",
   "mimetype": "text/x-python",
   "name": "python",
   "nbconvert_exporter": "python",
   "pygments_lexer": "ipython3",
   "version": "3.8.5"
  }
 },
 "nbformat": 4,
 "nbformat_minor": 1
}
