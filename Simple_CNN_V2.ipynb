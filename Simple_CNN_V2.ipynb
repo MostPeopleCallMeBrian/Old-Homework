{
 "cells": [
  {
   "cell_type": "code",
   "execution_count": 1,
   "metadata": {
    "id": "RaOBC_WakEeG"
   },
   "outputs": [],
   "source": [
    "#Agustin Lopez\n",
    "#Creating a simple Convolutional Neural Network to prepare to make the GAN 19 in the future\n",
    "%matplotlib inline"
   ]
  },
  {
   "cell_type": "markdown",
   "metadata": {
    "id": "P-Qz6qR8JxHA"
   },
   "source": [
    "Below is importing the training and testing data into my google drive"
   ]
  },
  {
   "cell_type": "code",
   "execution_count": 2,
   "metadata": {
    "colab": {
     "base_uri": "https://localhost:8080/"
    },
    "id": "UKRp-0v4pIJ1",
    "outputId": "e9e9bb50-be90-4408-f252-8dac1153ef65"
   },
   "outputs": [
    {
     "ename": "ModuleNotFoundError",
     "evalue": "No module named 'google'",
     "output_type": "error",
     "traceback": [
      "\u001b[1;31m---------------------------------------------------------------------------\u001b[0m",
      "\u001b[1;31mModuleNotFoundError\u001b[0m                       Traceback (most recent call last)",
      "\u001b[1;32m<ipython-input-2-3aeef50c6911>\u001b[0m in \u001b[0;36m<module>\u001b[1;34m\u001b[0m\n\u001b[1;32m----> 1\u001b[1;33m \u001b[1;32mfrom\u001b[0m \u001b[0mgoogle\u001b[0m\u001b[1;33m.\u001b[0m\u001b[0mcolab\u001b[0m \u001b[1;32mimport\u001b[0m \u001b[0mdrive\u001b[0m\u001b[1;33m\u001b[0m\u001b[1;33m\u001b[0m\u001b[0m\n\u001b[0m\u001b[0;32m      2\u001b[0m \u001b[1;33m\u001b[0m\u001b[0m\n\u001b[0;32m      3\u001b[0m \u001b[0mdrive\u001b[0m\u001b[1;33m.\u001b[0m\u001b[0mmount\u001b[0m\u001b[1;33m(\u001b[0m\u001b[1;34m'/content/gdrive'\u001b[0m\u001b[1;33m)\u001b[0m\u001b[1;33m\u001b[0m\u001b[1;33m\u001b[0m\u001b[0m\n",
      "\u001b[1;31mModuleNotFoundError\u001b[0m: No module named 'google'"
     ]
    }
   ],
   "source": [
    "from google.colab import drive\n",
    "\n",
    "drive.mount('/content/gdrive')"
   ]
  },
  {
   "cell_type": "code",
   "execution_count": null,
   "metadata": {
    "colab": {
     "base_uri": "https://localhost:8080/"
    },
    "id": "ZqCBwQ_lqR4A",
    "outputId": "7596d655-9e33-41c2-e7c0-3201d290947f"
   },
   "outputs": [],
   "source": [
    "%cd /content/gdrive/MyDrive/Colab Notebooks/SimpleCNNData"
   ]
  },
  {
   "cell_type": "code",
   "execution_count": null,
   "metadata": {
    "colab": {
     "base_uri": "https://localhost:8080/"
    },
    "id": "WcOKV9CKsNoZ",
    "outputId": "e6451c80-0c57-4186-fc7c-bb945aff9257"
   },
   "outputs": [],
   "source": [
    "#This downloads our test data \n",
    "repo_url = 'https://github.com/nickmccullum/cats-and-dogs'\n",
    "import os\n",
    "%cd /content/gdrive/MyDrive/Colab Notebooks/SimpleCNNData\n",
    "repo_dir_path = os.path.abspath(os.path.join('.', os.path.basename(repo_url)))\n",
    "!git clone {repo_url}\n",
    "%cd {repo_dir_path}\n",
    "!git pull"
   ]
  },
  {
   "cell_type": "markdown",
   "metadata": {
    "id": "YVJZAo0kudyz"
   },
   "source": [
    "Beginning of the actual CNN"
   ]
  },
  {
   "cell_type": "code",
   "execution_count": null,
   "metadata": {
    "id": "0UzZuQcWmARq"
   },
   "outputs": [],
   "source": [
    "import numpy as np\n",
    "import tensorflow as tf\n",
    "from tensorflow.keras.preprocessing.image import ImageDataGenerator"
   ]
  },
  {
   "cell_type": "code",
   "execution_count": null,
   "metadata": {
    "id": "w5UGuCqSxVoJ"
   },
   "outputs": [],
   "source": [
    "training_data = '/content/gdrive/MyDrive/Colab Notebooks/SimpleCNNData/cats-and-dogs/training_data'\n",
    "test_data = '/content/gdrive/MyDrive/Colab Notebooks/SimpleCNNData/cats-and-dogs/test_data'"
   ]
  },
  {
   "cell_type": "code",
   "execution_count": null,
   "metadata": {
    "id": "dDVT9EWumHO1"
   },
   "outputs": [],
   "source": [
    "#To avoid overfitting we have to do the following to our training and testing images,\n",
    "#rotations \n",
    "#cropping\n",
    "#Zooming\n",
    "#When performed its called image augmentation\n",
    "\n",
    "#The following method is able to apply a number of different transformations \n",
    "training_generator = ImageDataGenerator(\n",
    "    rescale = 1 / 255,\n",
    "    shear_range = 0.2,\n",
    "    zoom_range = 0.2,\n",
    "    horizontal_flip = True)"
   ]
  },
  {
   "cell_type": "code",
   "execution_count": null,
   "metadata": {
    "colab": {
     "base_uri": "https://localhost:8080/"
    },
    "id": "GBj9uwrqvo7r",
    "outputId": "c63e99b1-830f-44ed-e1f1-9f2d3a8961fc"
   },
   "outputs": [],
   "source": [
    "#We apply the image transformations to our training data\n",
    "training_set = training_generator.flow_from_directory(\n",
    "    training_data,\n",
    "    target_size = (64,64),\n",
    "    batch_size = 32,\n",
    "    class_mode = 'binary'\n",
    "    )"
   ]
  },
  {
   "cell_type": "code",
   "execution_count": null,
   "metadata": {
    "colab": {
     "base_uri": "https://localhost:8080/"
    },
    "id": "07YSUtT_3mPs",
    "outputId": "387a4a9f-186b-4ef3-f04a-dae4d9be34be"
   },
   "outputs": [],
   "source": [
    "#We create a new ImageDataGenerator because we don't want our test data to be changed\n",
    "test_generator = ImageDataGenerator(rescale = 1./255)\n",
    "\n",
    "test_set = test_generator.flow_from_directory(\n",
    "    test_data,\n",
    "    target_size = (64, 64),\n",
    "    batch_size = 32,\n",
    "    class_mode = 'binary')"
   ]
  },
  {
   "cell_type": "code",
   "execution_count": null,
   "metadata": {
    "id": "AzsUBI18xr-O"
   },
   "outputs": [],
   "source": [
    "#Starting convolutional neural network \n",
    "#Sequential allows for a group of linear stack of layers\n",
    "cnn = tf.keras.models.Sequential()"
   ]
  },
  {
   "cell_type": "code",
   "execution_count": null,
   "metadata": {
    "id": "f6VoIgDQydD1"
   },
   "outputs": [],
   "source": [
    "#First layers - Convolutional layers\n",
    "#Explanation for each parameter\n",
    "#filters - the number of feature detectors we want to use in our CNN\n",
    "#kernal - the size of the feature detector can be a 2x2, 3x3..., nxn\n",
    "#activation - activation function\n",
    "#input shape - shape of the images the last number in the array represents clolor\n",
    "cnn.add(tf.keras.layers.Conv2D(\n",
    "    filters=32,\n",
    "    kernel_size=3,\n",
    "    activation='relu',\n",
    "    input_shape=[64,64,3]))"
   ]
  },
  {
   "cell_type": "code",
   "execution_count": null,
   "metadata": {
    "id": "uwwxM-WSzHbn"
   },
   "outputs": [],
   "source": [
    "#Second Layer - Max pooling layer\n",
    "#Explanation for each parameter\n",
    "#pool_size - the size of the matrix that views the image either 2x2, 3x3..., nxn\n",
    "#strides - how far should the matrix move after one calculation\n",
    "\n",
    "cnn.add(tf.keras.layers.MaxPool2D(\n",
    "    pool_size=2,\n",
    "    strides=2\n",
    "))"
   ]
  },
  {
   "cell_type": "code",
   "execution_count": null,
   "metadata": {
    "id": "3Hk8NDuXzqTU"
   },
   "outputs": [],
   "source": [
    "#Third Layer - Convolutional layers\n",
    "cnn.add(tf.keras.layers.Conv2D(\n",
    "    filters=32,\n",
    "    kernel_size=3,\n",
    "    activation='relu'))"
   ]
  },
  {
   "cell_type": "code",
   "execution_count": null,
   "metadata": {
    "id": "pm7VFX3Vz2qh"
   },
   "outputs": [],
   "source": [
    "#Fourth Layer - Max pooling layer\n",
    "cnn.add(tf.keras.layers.MaxPool2D(\n",
    "    pool_size=2,\n",
    "    strides=2))"
   ]
  },
  {
   "cell_type": "code",
   "execution_count": null,
   "metadata": {
    "id": "8DvJ6_JGz3uM"
   },
   "outputs": [],
   "source": [
    "#Fifth Layer - Flattening layer \n",
    "cnn.add(tf.keras.layers.Flatten())"
   ]
  },
  {
   "cell_type": "code",
   "execution_count": null,
   "metadata": {
    "id": "kh6gMFN3z5BV"
   },
   "outputs": [],
   "source": [
    "#Sixth layer - Connection Layer\n",
    "#we do this with another layer\n",
    "cnn.add(tf.keras.layers.Dense(\n",
    "    units=128, \n",
    "    activation='relu'))"
   ]
  },
  {
   "cell_type": "code",
   "execution_count": null,
   "metadata": {
    "id": "DPLLIfdV1o7L"
   },
   "outputs": [],
   "source": [
    "#seventh layer - output layer\n",
    "cnn.add(tf.keras.layers.Dense(\n",
    "    units=1,\n",
    "    activation='sigmoid'))"
   ]
  },
  {
   "cell_type": "markdown",
   "metadata": {
    "id": "4O8h4JUM17aS"
   },
   "source": [
    "Train the convolutional neural network"
   ]
  },
  {
   "cell_type": "code",
   "execution_count": null,
   "metadata": {
    "id": "dHAxxmcY156H"
   },
   "outputs": [],
   "source": [
    "#we need the following to compile a CNN\n",
    "#optimizer\n",
    "#loss function \n",
    "#some metrics\n",
    "#using adams optimizer because the tutorial said so\n",
    "#using stochastic for the same reason and for accuracy too\n",
    "cnn.compile(optimizer = 'adam',\n",
    "            loss= 'binary_crossentropy',\n",
    "            metrics = ['accuracy'])\n"
   ]
  },
  {
   "cell_type": "code",
   "execution_count": null,
   "metadata": {
    "colab": {
     "base_uri": "https://localhost:8080/"
    },
    "id": "iFpooXe52od6",
    "outputId": "8d43ab95-15dc-4d8d-8c76-726f74f21ea8"
   },
   "outputs": [],
   "source": [
    "#fitting the model to our training data\n",
    "cnn.fit(x = training_set, validation_data = test_set, epochs = 25)"
   ]
  },
  {
   "cell_type": "markdown",
   "metadata": {
    "id": "r8cIyapnDJtt"
   },
   "source": [
    "Time for prediction!!!"
   ]
  },
  {
   "cell_type": "code",
   "execution_count": null,
   "metadata": {
    "id": "59G9DxGC3NsS"
   },
   "outputs": [],
   "source": [
    "from tensorflow.keras.preprocessing import image"
   ]
  },
  {
   "cell_type": "code",
   "execution_count": null,
   "metadata": {
    "id": "zBUI-O8kDQH6"
   },
   "outputs": [],
   "source": [
    "test_image_1 = image.load_img('/content/gdrive/MyDrive/Colab Notebooks/SimpleCNNData/cats-and-dogs/predictions/cat_or_dog_1.jpg', target_size = (64, 64))\n",
    "\n",
    "test_image_2 = image.load_img('/content/gdrive/MyDrive/Colab Notebooks/SimpleCNNData/cats-and-dogs/predictions/cat_or_dog_2.jpg', target_size= (64,64))"
   ]
  },
  {
   "cell_type": "code",
   "execution_count": null,
   "metadata": {
    "colab": {
     "base_uri": "https://localhost:8080/",
     "height": 81
    },
    "id": "Wej1wlFVEPEY",
    "outputId": "06851b93-9484-443b-efeb-f7f4030e404f"
   },
   "outputs": [],
   "source": [
    "test_image_1"
   ]
  },
  {
   "cell_type": "code",
   "execution_count": null,
   "metadata": {
    "colab": {
     "base_uri": "https://localhost:8080/",
     "height": 81
    },
    "id": "DEuk-3xaEQ7a",
    "outputId": "d223b046-2a32-499b-a868-c79b9ba0cd56"
   },
   "outputs": [],
   "source": [
    "test_image_2"
   ]
  },
  {
   "cell_type": "code",
   "execution_count": null,
   "metadata": {
    "id": "DqCNCwfcES7f"
   },
   "outputs": [],
   "source": [
    "#Since we grouped our training data to batches of size 32,\n",
    "#we must then match this batch size to calculate our test data\n",
    "test_image_1 = np.expand_dims(test_image_1, axis = 0)\n",
    "test_image_2 = np.expand_dims(test_image_2, axis = 0)"
   ]
  },
  {
   "cell_type": "code",
   "execution_count": null,
   "metadata": {
    "colab": {
     "base_uri": "https://localhost:8080/"
    },
    "id": "7_y1ZOaAFQJJ",
    "outputId": "80140375-9bad-4a39-bbb3-c59b9f0dfcdd"
   },
   "outputs": [],
   "source": [
    "print(\"Predict the value for image 1: \", cnn.predict(test_image_1))\n",
    "print(\"Predict the value for image 2: \", cnn.predict(test_image_2))\n"
   ]
  },
  {
   "cell_type": "code",
   "execution_count": null,
   "metadata": {
    "colab": {
     "base_uri": "https://localhost:8080/"
    },
    "id": "Qgdh_ELJF9OH",
    "outputId": "85b0ce04-b442-4663-b2c7-301e01dd8f27"
   },
   "outputs": [],
   "source": [
    "#What did those values before mean?\n",
    "training_set.class_indices"
   ]
  },
  {
   "cell_type": "code",
   "execution_count": null,
   "metadata": {
    "colab": {
     "base_uri": "https://localhost:8080/"
    },
    "id": "NIL5779RIDrU",
    "outputId": "f1838fea-0c0a-4137-ffca-fef20d3ab64c"
   },
   "outputs": [],
   "source": [
    "#Categorical Predictions\n",
    "result_1 = cnn.predict(test_image_1)\n",
    "\n",
    "result_2 = cnn.predict(test_image_2)\n",
    "\n",
    "if (result_1 >= 0.5):\n",
    "\n",
    "    result_1 = 'dog'\n",
    "\n",
    "else:\n",
    "\n",
    "    result_1 = 'cat'\n",
    "\n",
    "    \n",
    "\n",
    "if (result_2 >= 0.5):\n",
    "\n",
    "    result_2 = 'dog'\n",
    "\n",
    "else:\n",
    "\n",
    "    result_2 = 'cat'\n",
    "\n",
    "print(result_1)\n",
    "\n",
    "print(result_2)"
   ]
  },
  {
   "cell_type": "code",
   "execution_count": null,
   "metadata": {
    "colab": {
     "base_uri": "https://localhost:8080/"
    },
    "id": "9u2G02V2U__q",
    "outputId": "4c2481c8-c842-4bc0-9087-7223b9cb7a82"
   },
   "outputs": [],
   "source": [
    "cnn.summary()"
   ]
  },
  {
   "cell_type": "code",
   "execution_count": null,
   "metadata": {
    "id": "hlOYzMtPVCNS"
   },
   "outputs": [],
   "source": []
  }
 ],
 "metadata": {
  "colab": {
   "collapsed_sections": [],
   "name": "Simple CNN.ipynb",
   "provenance": []
  },
  "kernelspec": {
   "display_name": "Python 3",
   "language": "python",
   "name": "python3"
  },
  "language_info": {
   "codemirror_mode": {
    "name": "ipython",
    "version": 3
   },
   "file_extension": ".py",
   "mimetype": "text/x-python",
   "name": "python",
   "nbconvert_exporter": "python",
   "pygments_lexer": "ipython3",
   "version": "3.8.5"
  }
 },
 "nbformat": 4,
 "nbformat_minor": 1
}
