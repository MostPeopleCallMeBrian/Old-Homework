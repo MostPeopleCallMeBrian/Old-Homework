{
 "cells": [
  {
   "cell_type": "markdown",
   "metadata": {},
   "source": [
    "This session introduces key notions in data cleaning.  A primary concern of the instructor in this new environment of 'remote teaching' is that without structure, you may just fall through the cracks and not get stuff done. So let's reiterate. <b>We care that you learn</b>, and you will be tested in one week on what you have learned. Make a schedule, ask questions</b> (your instructor is always happy to hear from you by emails!), follow a good structure so you can keep learning well in this course.\n",
    "\n",
    "<h1><center>Basics of data cleaning for CSCI 412/612: outliers</center></h1>\n",
    "\n",
    "At this stage, you are able to reformat raw data into a proper spreadsheet and run a classification algorithm on it. Unfortunately, there is a _lot_ more to be done on data pre-processing. By considering that all data is equally valuable and giving it all to the algorithm, we also pass on a lot of trash. And as the saying goes, \"garbage in, garbage out\". \n",
    "\n",
    "If we build a model on bad data, we get a bad model. So let's start dealing with what can make data 'bad'. The <font color='red'>focus of this lab is on outliers</font>. Specifically, the objectives are to:\n",
    "1. Detect the __presence of outliers__, and\n",
    "2. __Handle the outliers__.\n",
    "\n",
    "The <font color='blue'>dataset is downloaded using the first cell of code. If you mess up the data when writing your own code, simply re-run the topmost cell and it will reset your data!</font>\n",
    "\n",
    "<img src=\"https://cdn-images-1.medium.com/max/1200/1*yWFQiGjlgHUVYeh4ELELyw.jpeg\">"
   ]
  },
  {
   "cell_type": "markdown",
   "metadata": {},
   "source": [
    "# 1. A classic but rigid definition of outliers\n",
    "\n",
    "An outlier is a data point that significantly 'differs' from others. In other words, an outlier is a point that may not be very representative of the overall distribution. <b>Applying machine learning on data that has outliers may produce poor results</b>, because the outliers will have a disproportionate impact. That is, a machine learning method may be significantly biased by the presence of a few outliers, and thus produce results that will not generalize well. \n",
    "\n",
    "The code below will open data that has outliers. You will use this <b>dataset</b> throughout the lab. If you mess it up, simply re-run the cell below and it'll load up it fresh again."
   ]
  },
  {
   "cell_type": "code",
   "execution_count": 2,
   "metadata": {},
   "outputs": [
    {
     "data": {
      "text/html": [
       "<div>\n",
       "<style scoped>\n",
       "    .dataframe tbody tr th:only-of-type {\n",
       "        vertical-align: middle;\n",
       "    }\n",
       "\n",
       "    .dataframe tbody tr th {\n",
       "        vertical-align: top;\n",
       "    }\n",
       "\n",
       "    .dataframe thead th {\n",
       "        text-align: right;\n",
       "    }\n",
       "</style>\n",
       "<table border=\"1\" class=\"dataframe\">\n",
       "  <thead>\n",
       "    <tr style=\"text-align: right;\">\n",
       "      <th></th>\n",
       "      <th>V0</th>\n",
       "      <th>V1</th>\n",
       "      <th>V2</th>\n",
       "      <th>V3</th>\n",
       "      <th>V4</th>\n",
       "      <th>V5</th>\n",
       "      <th>V6</th>\n",
       "      <th>V7</th>\n",
       "      <th>V8</th>\n",
       "      <th>V9</th>\n",
       "      <th>...</th>\n",
       "      <th>V51</th>\n",
       "      <th>V52</th>\n",
       "      <th>V53</th>\n",
       "      <th>V54</th>\n",
       "      <th>V55</th>\n",
       "      <th>V56</th>\n",
       "      <th>V57</th>\n",
       "      <th>V58</th>\n",
       "      <th>V59</th>\n",
       "      <th>V60</th>\n",
       "    </tr>\n",
       "  </thead>\n",
       "  <tbody>\n",
       "    <tr>\n",
       "      <th>0</th>\n",
       "      <td>0.0200</td>\n",
       "      <td>0.0371</td>\n",
       "      <td>0.0428</td>\n",
       "      <td>0.0207</td>\n",
       "      <td>0.0954</td>\n",
       "      <td>0.0986</td>\n",
       "      <td>0.1539</td>\n",
       "      <td>0.1601</td>\n",
       "      <td>0.3109</td>\n",
       "      <td>0.2111</td>\n",
       "      <td>...</td>\n",
       "      <td>0.0027</td>\n",
       "      <td>0.0065</td>\n",
       "      <td>0.0159</td>\n",
       "      <td>0.0072</td>\n",
       "      <td>0.0167</td>\n",
       "      <td>0.0180</td>\n",
       "      <td>0.0084</td>\n",
       "      <td>0.0090</td>\n",
       "      <td>0.0032</td>\n",
       "      <td>R</td>\n",
       "    </tr>\n",
       "    <tr>\n",
       "      <th>1</th>\n",
       "      <td>0.0453</td>\n",
       "      <td>0.0523</td>\n",
       "      <td>0.0843</td>\n",
       "      <td>0.0689</td>\n",
       "      <td>0.1183</td>\n",
       "      <td>0.2583</td>\n",
       "      <td>0.2156</td>\n",
       "      <td>0.3481</td>\n",
       "      <td>0.3337</td>\n",
       "      <td>0.2872</td>\n",
       "      <td>...</td>\n",
       "      <td>0.0084</td>\n",
       "      <td>0.0089</td>\n",
       "      <td>0.0048</td>\n",
       "      <td>0.0094</td>\n",
       "      <td>0.0191</td>\n",
       "      <td>0.0140</td>\n",
       "      <td>0.0049</td>\n",
       "      <td>0.0052</td>\n",
       "      <td>0.0044</td>\n",
       "      <td>R</td>\n",
       "    </tr>\n",
       "    <tr>\n",
       "      <th>2</th>\n",
       "      <td>0.0262</td>\n",
       "      <td>0.0582</td>\n",
       "      <td>0.1099</td>\n",
       "      <td>0.1083</td>\n",
       "      <td>0.0974</td>\n",
       "      <td>0.2280</td>\n",
       "      <td>0.2431</td>\n",
       "      <td>0.3771</td>\n",
       "      <td>0.5598</td>\n",
       "      <td>0.6194</td>\n",
       "      <td>...</td>\n",
       "      <td>0.0232</td>\n",
       "      <td>0.0166</td>\n",
       "      <td>0.0095</td>\n",
       "      <td>0.0180</td>\n",
       "      <td>0.0244</td>\n",
       "      <td>0.0316</td>\n",
       "      <td>0.0164</td>\n",
       "      <td>0.0095</td>\n",
       "      <td>0.0078</td>\n",
       "      <td>R</td>\n",
       "    </tr>\n",
       "    <tr>\n",
       "      <th>3</th>\n",
       "      <td>0.0100</td>\n",
       "      <td>0.0171</td>\n",
       "      <td>0.0623</td>\n",
       "      <td>0.0205</td>\n",
       "      <td>0.0205</td>\n",
       "      <td>0.0368</td>\n",
       "      <td>0.1098</td>\n",
       "      <td>0.1276</td>\n",
       "      <td>0.0598</td>\n",
       "      <td>0.1264</td>\n",
       "      <td>...</td>\n",
       "      <td>0.0121</td>\n",
       "      <td>0.0036</td>\n",
       "      <td>0.0150</td>\n",
       "      <td>0.0085</td>\n",
       "      <td>0.0073</td>\n",
       "      <td>0.0050</td>\n",
       "      <td>0.0044</td>\n",
       "      <td>0.0040</td>\n",
       "      <td>0.0117</td>\n",
       "      <td>R</td>\n",
       "    </tr>\n",
       "    <tr>\n",
       "      <th>4</th>\n",
       "      <td>0.0762</td>\n",
       "      <td>0.0666</td>\n",
       "      <td>0.0481</td>\n",
       "      <td>0.0394</td>\n",
       "      <td>0.0590</td>\n",
       "      <td>0.0649</td>\n",
       "      <td>0.1209</td>\n",
       "      <td>0.2467</td>\n",
       "      <td>0.3564</td>\n",
       "      <td>0.4459</td>\n",
       "      <td>...</td>\n",
       "      <td>0.0031</td>\n",
       "      <td>0.0054</td>\n",
       "      <td>0.0105</td>\n",
       "      <td>0.0110</td>\n",
       "      <td>0.0015</td>\n",
       "      <td>0.0072</td>\n",
       "      <td>0.0048</td>\n",
       "      <td>0.0107</td>\n",
       "      <td>0.0094</td>\n",
       "      <td>R</td>\n",
       "    </tr>\n",
       "  </tbody>\n",
       "</table>\n",
       "<p>5 rows × 61 columns</p>\n",
       "</div>"
      ],
      "text/plain": [
       "       V0      V1      V2      V3      V4      V5      V6      V7      V8  \\\n",
       "0  0.0200  0.0371  0.0428  0.0207  0.0954  0.0986  0.1539  0.1601  0.3109   \n",
       "1  0.0453  0.0523  0.0843  0.0689  0.1183  0.2583  0.2156  0.3481  0.3337   \n",
       "2  0.0262  0.0582  0.1099  0.1083  0.0974  0.2280  0.2431  0.3771  0.5598   \n",
       "3  0.0100  0.0171  0.0623  0.0205  0.0205  0.0368  0.1098  0.1276  0.0598   \n",
       "4  0.0762  0.0666  0.0481  0.0394  0.0590  0.0649  0.1209  0.2467  0.3564   \n",
       "\n",
       "       V9  ...     V51     V52     V53     V54     V55     V56     V57  \\\n",
       "0  0.2111  ...  0.0027  0.0065  0.0159  0.0072  0.0167  0.0180  0.0084   \n",
       "1  0.2872  ...  0.0084  0.0089  0.0048  0.0094  0.0191  0.0140  0.0049   \n",
       "2  0.6194  ...  0.0232  0.0166  0.0095  0.0180  0.0244  0.0316  0.0164   \n",
       "3  0.1264  ...  0.0121  0.0036  0.0150  0.0085  0.0073  0.0050  0.0044   \n",
       "4  0.4459  ...  0.0031  0.0054  0.0105  0.0110  0.0015  0.0072  0.0048   \n",
       "\n",
       "      V58     V59  V60  \n",
       "0  0.0090  0.0032    R  \n",
       "1  0.0052  0.0044    R  \n",
       "2  0.0095  0.0078    R  \n",
       "3  0.0040  0.0117    R  \n",
       "4  0.0107  0.0094    R  \n",
       "\n",
       "[5 rows x 61 columns]"
      ]
     },
     "execution_count": 2,
     "metadata": {},
     "output_type": "execute_result"
    }
   ],
   "source": [
    "import pandas as pd\n",
    "from pandas import DataFrame\n",
    "import matplotlib.pyplot as plt\n",
    "%matplotlib inline\n",
    "\n",
    "#the data is hosted online, so we specify the URL\n",
    "dataURL=\"https://archive.ics.uci.edu/ml/machine-learning-databases/undocumented/connectionist-bench/sonar/sonar.all-data\"\n",
    "#we open the dataset noting that there is no header line.\n",
    "#In the absence of a header, columns are automatically numbered, starting at 0\n",
    "#Rather than just having numbers, we add a prefix V, making them V0, V1, ...\n",
    "dataset=pd.read_csv(dataURL,header=None,prefix=\"V\")\n",
    "dataset.head()"
   ]
  },
  {
   "cell_type": "markdown",
   "metadata": {},
   "source": [
    "## 1.1 Graphical approach: visually inspecting distributions\n",
    "When we get new data, sometimes we have no idea what's inside. Visualizing it isn't a proof, so it's not particularly rigorous, but it gives a 'sense' of what statistics we may actually need to apply. We may get a first intuitive feeling for the presence of outliers when noticing that:\n",
    "1. the bulk of the data falls in a narrow region, with very few points are far from this. That is, we have a long tailed distribution.\n",
    "2. there are gaps in the tail of the distribution, with a few points \"out there\" on their own.\n",
    "\n",
    "An example that matches these two criteria is shown in the picture below, where the point on the left is an outlier:\n",
    "<img src=\"http://mathworld.wolfram.com/images/eps-gif/OutlierHistogram_1000.gif\">"
   ]
  },
  {
   "cell_type": "markdown",
   "metadata": {},
   "source": [
    "> ___Milestone 1___\n",
    ">\n",
    "> Write a script that loops through the columns of your data and outputs <b>one histogram for each distribution</b> so you can visualize them. You can limit yourself to looping through 10-20 of them: you _do not_ need to look at all 60 features! To plot with Pandas, [check this link!](https://pandas.pydata.org/pandas-docs/stable/user_guide/visualization.html#visualization-hist)\n",
    ">\n",
    "> Please <b>avoid displaying several histograms on the same space</b> (i.e. on top of each other). That gets very confusing quickly, so after 3 overlays you just cannot see anything anymore.\n",
    ">\n",
    "> Visually inspect the output of your script, and note which columns look like they may have outliers. Finally, in a Markdown-formatted table, <font color='blue'><b>list the 3 features that most clearly exhibit the presence of outliers in your eyes.</b></font> You're only looking for the top three 'most striking outliers', so you don't need to list every single one."
   ]
  },
  {
   "cell_type": "markdown",
   "metadata": {},
   "source": [
    "---\n",
    "---\n",
    "_Your beautiful code will be written in the cell below._"
   ]
  },
  {
   "cell_type": "code",
   "execution_count": 3,
   "metadata": {},
   "outputs": [
    {
     "data": {
      "text/plain": [
       "<AxesSubplot:ylabel='Frequency'>"
      ]
     },
     "execution_count": 3,
     "metadata": {},
     "output_type": "execute_result"
    },
    {
     "data": {
      "image/png": "[encoded data removed]",
      "text/plain": [
       "<Figure size 432x288 with 1 Axes>"
      ]
     },
     "metadata": {
      "needs_background": "light"
     },
     "output_type": "display_data"
    }
   ],
   "source": [
    "df1 = pd.DataFrame(dataset, columns=['V0'])\n",
    "df1\n",
    "df1.plot.hist(alpha=0.5)\n",
    "#df4 = pd.DataFrame(dataset, columns=['V0', 'V1', 'V2'])"
   ]
  },
  {
   "cell_type": "code",
   "execution_count": 12,
   "metadata": {},
   "outputs": [
    {
     "data": {
      "text/plain": [
       "<matplotlib.axes._subplots.AxesSubplot at 0x256551ce6a0>"
      ]
     },
     "execution_count": 12,
     "metadata": {},
     "output_type": "execute_result"
    },
    {
     "data": {
      "image/png": "[encoded data removed]",
      "text/plain": [
       "<Figure size 432x288 with 1 Axes>"
      ]
     },
     "metadata": {
      "needs_background": "light"
     },
     "output_type": "display_data"
    }
   ],
   "source": [
    "df2 = pd.DataFrame(dataset, columns=['V1'])\n",
    "df2\n",
    "df2.plot.hist(alpha=0.5)"
   ]
  },
  {
   "cell_type": "code",
   "execution_count": null,
   "metadata": {},
   "outputs": [],
   "source": []
  },
  {
   "cell_type": "markdown",
   "metadata": {},
   "source": [
    "> ___<font color='grey'>(Optional)</font> Milestone 1: Stretch Goal___\n",
    ">\n",
    "> Plotting dozens of histogram is a simple way to see what it's in the data, but it's a bit <i>primitive</i> and overwhelming. We have developed much more informative approaches. Dumping all these histograms is like using an axe to chop trees: it works, but everyone else uses chainsaws and will think that you belong to a different century with your axe. A professional data scientist would normally use more compact information visualizations: at the very least a <b>boxplot</b> (out of laziness...) or preferentially a <b>violin plot</b>. A boxplot can summarize key features of a histogram using a single column, so you can pack a lot of information in the same space (instead of one histogram after one histogram). \n",
    ">\n",
    "> [This link](https://matplotlib.org/gallery/statistics/boxplot_demo.html#sphx-glr-gallery-statistics-boxplot-demo-py) shows you how to use boxplots. Look closely at the second figure which has ten boxplots: that summarizes the information that you would otherwise display in ten consecutive histograms!\n",
    ">\n",
    "> The issue with a boxplot is that a lot of information is lost. We can se quartiles, median and outliers... but we have no idea what's the shape of the distribution. So it's not perfectly equivalent to seeing a histogram, which gives us the shape. A violin plot handles that problem: instead of showing every distribution as a 'box' (in a boxplot), it uses curves to hint as to the data distribution. [This link](https://seaborn.pydata.org/generated/seaborn.violinplot.html) shows you how to use violin plots like a pro :)\n",
    ">\n",
    "> Our course is on machine learning rather than on data visualization. So you're encouraged to develop professional skills with boxplots and violin plots, but that's not a learning outcome of the course. Hence you're not going to be tested on displaying these visualizations.\n",
    "\n",
    "---\n",
    "---\n",
    "_Your wonderful but optional code may be written in the cell below._"
   ]
  },
  {
   "cell_type": "code",
   "execution_count": 19,
   "metadata": {},
   "outputs": [
    {
     "data": {
      "text/plain": [
       "<matplotlib.axes._subplots.AxesSubplot at 0x256577b3b20>"
      ]
     },
     "execution_count": 19,
     "metadata": {},
     "output_type": "execute_result"
    },
    {
     "data": {
      "image/png": "[encoded data removed]",
      "text/plain": [
       "<Figure size 432x288 with 1 Axes>"
      ]
     },
     "metadata": {
      "needs_background": "light"
     },
     "output_type": "display_data"
    }
   ],
   "source": [
    "import seaborn as sns\n",
    "import matplotlib.pyplot as plt\n",
    "\n",
    "sns.boxplot(data=dataset)\n"
   ]
  },
  {
   "cell_type": "markdown",
   "metadata": {},
   "source": [
    "## 1.2 Statistical approach: deviating from quartiles\n",
    "\n",
    "Visualizations can be very efficient for communication (e.g., to 'show' that there are outliers) but they can be problematic to automatically process large amounts of data. It's tedious to look at a few distributions, and it's also inconsistent when you make decisions based on what you look at. It's also neither scalable nor automatic, as you have to look, and you can't do it for even dozens of features. Bottom line: we need statistical solutions as they'll lead to automatic, scalable ways to detect outliers.\n",
    "\n",
    "The simplest such solution consists of doing the following to each feature/column:\n",
    "1. Compute the quartiles. This tells you the value for 25% (lower quartile), 50%, and 75% (upper quartile) of the data.\n",
    "2. Compute the inter-quartile range (IQR), that is, the difference between upper and lower quartiles.\n",
    "3. An outlier is a data point more than <b>1.5</b> IQRs below the lower quartile or above the upper quartile.\n",
    "\n",
    "Here is an example. Feature V0 has a lower quartile of 0.013350, and an upper quartile of 0.035550. This leads to $IQR = 0.035550 - 0.013350 = 0.0222$. That means that a data point is an outlier if it's less than $0.013350 - 1.5*0.0222 = -0.01995$, or more than $0.035550 + 1.5*0.0222 = 0.06885$. In this case, the point 0.137100 would be flagged as outlier.\n",
    "\n",
    "> ___Milestone 2___\n",
    ">\n",
    "> For each column, compute the quartiles and then the IQR. Count how many values in this column qualify as outliers. By repeating your calculation across each column, provide the <font color='blue'>% of values that qualify as outliers.</font>\n",
    ">\n",
    "> _Hint: To get the quartiles, you can ask Pandas to statistically describe the data via dataset.describe(), and that produces a new data frame (so it's easy to loop through)._\n",
    "\n",
    "---\n",
    "---\n",
    "Fantastic code starts below!"
   ]
  },
  {
   "cell_type": "code",
   "execution_count": 27,
   "metadata": {},
   "outputs": [
    {
     "name": "stdout",
     "output_type": "stream",
     "text": [
      "Q1 25 percentile of the given data is,  0.0133\n",
      "Q1 50 percentile of the given data is,  0.0228\n",
      "Q1 75 percentile of the given data is,  0.0358\n",
      "Interquartile range is 0.0225\n"
     ]
    }
   ],
   "source": [
    "import numpy as np  \n",
    "import seaborn as sns \n",
    "df = pd.DataFrame(dataset, columns=['V0'])\n",
    "Q1 = np.percentile(df, 25, interpolation = 'midpoint')  \n",
    "Q2 = np.percentile(df, 50, interpolation = 'midpoint')  \n",
    "Q3 = np.percentile(df, 75, interpolation = 'midpoint')  \n",
    "  \n",
    "print('Q1 25 percentile of the given data is, ', Q1) \n",
    "print('Q1 50 percentile of the given data is, ', Q2) \n",
    "print('Q1 75 percentile of the given data is, ', Q3) \n",
    "IQR = Q3 - Q1  \n",
    "print('Interquartile range is', IQR) \n"
   ]
  },
  {
   "cell_type": "code",
   "execution_count": 28,
   "metadata": {},
   "outputs": [
    {
     "name": "stdout",
     "output_type": "stream",
     "text": [
      "low_limit is -0.020450000000000003\n",
      "up_limit is 0.06955\n"
     ]
    }
   ],
   "source": [
    "low_lim = Q1 - 1.5 * IQR \n",
    "up_lim = Q3 + 1.5 * IQR \n",
    "print('low_limit is', low_lim) \n",
    "print('up_limit is', up_lim) "
   ]
  },
  {
   "cell_type": "code",
   "execution_count": 4,
   "metadata": {},
   "outputs": [
    {
     "ename": "NameError",
     "evalue": "name 'df' is not defined",
     "output_type": "error",
     "traceback": [
      "\u001b[1;31m---------------------------------------------------------------------------\u001b[0m",
      "\u001b[1;31mNameError\u001b[0m                                 Traceback (most recent call last)",
      "\u001b[1;32m<ipython-input-4-2bdac7bd91ae>\u001b[0m in \u001b[0;36m<module>\u001b[1;34m\u001b[0m\n\u001b[0;32m      1\u001b[0m \u001b[0moutlier\u001b[0m \u001b[1;33m=\u001b[0m\u001b[1;33m[\u001b[0m\u001b[1;33m]\u001b[0m\u001b[1;33m\u001b[0m\u001b[1;33m\u001b[0m\u001b[0m\n\u001b[1;32m----> 2\u001b[1;33m \u001b[0mdata\u001b[0m \u001b[1;33m=\u001b[0m \u001b[0mdf\u001b[0m\u001b[1;33m.\u001b[0m\u001b[0mvalues\u001b[0m\u001b[1;33m.\u001b[0m\u001b[0mtolist\u001b[0m\u001b[1;33m(\u001b[0m\u001b[1;33m)\u001b[0m\u001b[1;33m\u001b[0m\u001b[1;33m\u001b[0m\u001b[0m\n\u001b[0m\u001b[0;32m      3\u001b[0m \u001b[1;32mfor\u001b[0m \u001b[0mx\u001b[0m \u001b[1;32min\u001b[0m \u001b[0mdata\u001b[0m\u001b[1;33m:\u001b[0m\u001b[1;33m\u001b[0m\u001b[1;33m\u001b[0m\u001b[0m\n\u001b[0;32m      4\u001b[0m     \u001b[1;32mif\u001b[0m \u001b[1;33m(\u001b[0m\u001b[1;33m(\u001b[0m\u001b[0mx\u001b[0m\u001b[1;33m>\u001b[0m \u001b[0mup_lim\u001b[0m\u001b[1;33m)\u001b[0m \u001b[1;32mor\u001b[0m \u001b[1;33m(\u001b[0m\u001b[0mx\u001b[0m\u001b[1;33m<\u001b[0m\u001b[0mlow_lim\u001b[0m\u001b[1;33m)\u001b[0m\u001b[1;33m)\u001b[0m\u001b[1;33m:\u001b[0m\u001b[1;33m\u001b[0m\u001b[1;33m\u001b[0m\u001b[0m\n\u001b[0;32m      5\u001b[0m          \u001b[0moutlier\u001b[0m\u001b[1;33m.\u001b[0m\u001b[0mappend\u001b[0m\u001b[1;33m(\u001b[0m\u001b[0mx\u001b[0m\u001b[1;33m)\u001b[0m\u001b[1;33m\u001b[0m\u001b[1;33m\u001b[0m\u001b[0m\n",
      "\u001b[1;31mNameError\u001b[0m: name 'df' is not defined"
     ]
    }
   ],
   "source": [
    "outlier =[] \n",
    "data = df.values.tolist()\n",
    "for x in data: \n",
    "    if ((x> up_lim) or (x<low_lim)): \n",
    "         outlier.append(x) \n",
    "print(' outlier in the dataset is', outlier) "
   ]
  },
  {
   "cell_type": "code",
   "execution_count": 39,
   "metadata": {},
   "outputs": [
    {
     "name": "stdout",
     "output_type": "stream",
     "text": [
      "Non-outlier observations: 193\n"
     ]
    }
   ],
   "source": [
    "outliers_removed = [x for x in data if x >= low_lim and x <= up_lim]\n",
    "print('Non-outlier observations: %d' % len(outliers_removed))"
   ]
  },
  {
   "cell_type": "markdown",
   "metadata": {},
   "source": [
    "In the second task, you computed the % of all values that are outliers. It's important to understand how it affects the rows/samples/entries. What you eventually feed to a machine learning algorithm is a set of rows (themselves consisting of values). If most rows are affected by outliers, then it means there is garbage throughout your dataset, and it lowers the confidence you can have in your results. Alternatively, if only a few rows are affected by outliers, then you may simply remove them and focus on a sufficient large sample of good quality data.\n",
    "\n",
    "__We'll create a visualization showing how the rows are affected by outliers__. The $y$-axis is the percentage of rows. The $x$-axis states that this % of rows has exactly $x$ outlier values (i.e. there are $x$ columns on which this % of rows has outliers). For example, $y$=50 and $x$=2 would say that half of your data has 2 outliers. Similarly, $y$=20 and $x$=10 states that 20% of your data has 10 outliers. Here is a sketch:\n",
    "<img src=\"sketch.png\">\n",
    "\n",
    "> ___Milestone 3___\n",
    ">\n",
    "> <font color='blue'>Write the code to create this figure based on your data.</font>\n",
    ">\n",
    "> _Hint: loop over the number of missing values $x$ and compute what percentage $y$ it affects. You can store this data in a data series, and then [plot it as bar graph](https://pandas.pydata.org/pandas-docs/stable/user_guide/visualization.html#visualization-barplot)._\n",
    "\n",
    "Beautiful code starts here.\n",
    "\n",
    "---\n",
    "---"
   ]
  },
  {
   "cell_type": "markdown",
   "metadata": {},
   "source": [
    "# 2. A more flexible notion of outliers\n",
    "## 2.1 Graphical approach: quantile-quantile (QQ) plot\n",
    "\n",
    "A __very important shortcoming__ of either method in section 1 is that they take a very rigid definition of outliers where having long tails is bad no matter what. However, not all data is supposed to be distributed around a mean 'representative' values. Sometimes the data is distributed according to very skewed distributions, and that's what it's supposed to be: ignoring the tail of the distribution would actually make an erroneous assumption of normalcy. So we need a more flexible notion of what it means to be an outlier. \n",
    "\n",
    "An outlier means that some values significantly derive from what would be obtained by an _assumed distribution_. Which distribution to assume depends on what we know about the problem. Sometimes, we expect a normal distribution (e.g., distribution of height). Sometimes, we expect a heavy tail distribution (e.g., distribution of incomes).\n",
    "\n",
    "A __Q–Q__ plot is a plot of the quantiles of two distributions against each other. The pattern of points in the plot is used to compare the two distributions. When your sample matches the expected distribution, you see points on the diagonal. When points deviate from the diagonal, it means that it doesn't match. This example from Wikipedia shows that a dataset follows a Weibull distribution (i.e. most points fall on the diagonal), with the exception of three outliers:\n",
    "<img src=\"https://upload.wikimedia.org/wikipedia/commons/thumb/c/ca/Weibull_qq.svg/360px-Weibull_qq.svg.png\">\n",
    "(If you want to know more, you can read the Wikipedia entry on [Q-Q plot](https://en.wikipedia.org/wiki/Q%E2%80%93Q_plot).) \n",
    "\n",
    "Here is the code to perform a Q-Q plot on column V0, by comparison with a normal distribution."
   ]
  },
  {
   "cell_type": "code",
   "execution_count": 43,
   "metadata": {},
   "outputs": [
    {
     "data": {
      "image/png": "[encoded data removed]",
      "text/plain": [
       "<Figure size 432x288 with 1 Axes>"
      ]
     },
     "metadata": {
      "needs_background": "light"
     },
     "output_type": "display_data"
    }
   ],
   "source": [
    "import numpy as np\n",
    "import scipy.stats as stats #full of great statistical functions!\n",
    "import pylab\n",
    "stats.probplot(dataset[\"V0\"], dist=\"norm\",plot=pylab); #the final ; hides the numbers\n",
    "#the 'dist' can be any continuous distribution listed here:\n",
    "#https://docs.scipy.org/doc/scipy/reference/stats.html"
   ]
  },
  {
   "cell_type": "markdown",
   "metadata": {},
   "source": [
    "> ___Milestone 4___\n",
    ">\n",
    "> The normal distribution doesn't fit well with our data, as exemplified above on attribute V0. <font color='red'>Pick any attribute you want, and show which distribution would fit it better than a normal</font>. If you're looking for heavy-tailed distributions, you can find a list [here](https://en.wikipedia.org/wiki/Heavy-tailed_distribution#Common_heavy-tailed_distributions). If you're looking for what scipy.stats gives you access to, you'll find it under continuous distributions [here](https://docs.scipy.org/doc/scipy/reference/stats.html).\n",
    ">\n",
    "> Please note that <b>not every single distribution will work</b>. Some will just crash because they cannot be used a distribution arguments in a probplot. Don't worry about the ones that crash (they're more complicated to use): simply look through the various options, note the ones that don't crash, and see what the result looks like.\n",
    "\n",
    "---\n",
    "---\n",
    "Tremendous code starts below."
   ]
  },
  {
   "cell_type": "code",
   "execution_count": null,
   "metadata": {},
   "outputs": [],
   "source": []
  },
  {
   "cell_type": "markdown",
   "metadata": {},
   "source": [
    "## 2.2 Statitical approach: fitting distributions\n",
    "\n",
    "Similarly to section 1, you can realize that the 'visual' approach of the Q-Q plot can be great communication tool but is a poor idea to automatically find outliers in large datasets. You simply can't keep on typing code to generate different distributions, and visually compare. A more scalable and systematic approach is to __fit curves__. That is, you give Python the equation of a curve (such as the line y=ax+b), and it'll give you the best parameter values (a, b) given your data. If the best fit is still poor, then the curve you thought of wasn't good for that data. If it's a good fit, you can use it for the data, and loop to find points that deviate from it. The code below prepares one feature (V0) for curve fitting, then tries to fit the best possible curve, and displays it. As you'll see, it's a bad fit, because the distribution really doesn't follow a line."
   ]
  },
  {
   "cell_type": "code",
   "execution_count": 44,
   "metadata": {},
   "outputs": [
    {
     "data": {
      "text/plain": [
       "array([-54.53642701,   5.85937439])"
      ]
     },
     "execution_count": 44,
     "metadata": {},
     "output_type": "execute_result"
    }
   ],
   "source": [
    "#----PREPARE DATA FOR CURVE FITTING\n",
    "import numpy as np\n",
    "Y,X = np.histogram(dataset['V0'], bins=100) # we fit the DISTRIBUTION of the data\n",
    "X = X[:-1] + (X[1] - X[0])/2   # convert bin edges to centers\n",
    "\n",
    "#----FIT THE BEST LINE\n",
    "from scipy.optimize import curve_fit\n",
    "def line(x, a, b):\n",
    "    return a * x + b\n",
    "\n",
    "popt, pcov = curve_fit(line, X, Y)\n",
    "popt #values of a and b, that is, the slope and offset"
   ]
  },
  {
   "cell_type": "code",
   "execution_count": 45,
   "metadata": {},
   "outputs": [
    {
     "data": {
      "image/png": "[encoded data removed]",
      "text/plain": [
       "<Figure size 432x288 with 1 Axes>"
      ]
     },
     "metadata": {
      "needs_background": "light"
     },
     "output_type": "display_data"
    }
   ],
   "source": [
    "#compare our fitted line to the data\n",
    "res=[line(val, popt[0], popt[1]) for val in X] #use our fitted line to compute predictions\n",
    "\n",
    "import matplotlib.pyplot as plt\n",
    "%matplotlib inline\n",
    "plt.plot(X, Y, 'bo', label = 'Original')\n",
    "plt.plot(X, res, 'r-', label = 'Fit')\n",
    "plt.show()"
   ]
  },
  {
   "cell_type": "markdown",
   "metadata": {},
   "source": [
    "> ___Milestone 5___\n",
    ">\n",
    "> <font color='red'>Write the code (inspired by the example above) to fit a __good__ curve over feature V0.</font> If you have statistical knowledge, you may look at the distribution, note that it's skewed and figure out the type of distributions that are good 'candidates' for this situation. If you are a bit light on statistics, remember that Milestone 4 had several pointers towards lists of distributions: you can pick some of them, go on Wikipedia to get their equations, and then write them as a function (just like ```def line```). \n",
    ">\n",
    "> Please note that curve fitting does have its limits. If you're trying to find the best fit for a function with two arguments, a curve fitting is essentially a 'somewhat sophisticated way' of doing a grid search (=nested loop) for you. Sometimes it guesses well, and sometimes not so much. If you think your function is the right one but the curve fitting simply cannot seem to handle it, you can write a nested loop yourself. The criteria in the nested loop (i.e. the quantity that the grid search seeks to optimize) is the [goodness-of-fit](https://en.wikipedia.org/wiki/Goodness_of_fit).\n",
    "\n",
    "Supercalifragilisticexpialidocious code starts there:\n",
    "\n",
    "---\n",
    "---"
   ]
  },
  {
   "cell_type": "code",
   "execution_count": null,
   "metadata": {},
   "outputs": [],
   "source": []
  },
  {
   "cell_type": "markdown",
   "metadata": {},
   "source": [
    "# 2.3 Empirical distributions\n",
    "To fit the best curve, you'd need to loop over all 'legit' continuous distributions. There aren't too many, so you certainly can code it. But it's computationally expensive, and your data may just not fit anything too well. For instance, it could be a [mixture distribution](https://en.wikipedia.org/wiki/Mixture_distribution) because it's produced by several distributions together, hence it doesn't look like any __one__ perfectly. The alternative to fitting standard distributions is to use your empirical distributions, that is, turn your distribution into a curve. This code shows you the distribution for our favorite feature V0:"
   ]
  },
  {
   "cell_type": "code",
   "execution_count": 46,
   "metadata": {},
   "outputs": [
    {
     "data": {
      "text/plain": [
       "<matplotlib.axes._subplots.AxesSubplot at 0x256564968e0>"
      ]
     },
     "execution_count": 46,
     "metadata": {},
     "output_type": "execute_result"
    },
    {
     "data": {
      "image/png": "[encoded data removed]",
      "text/plain": [
       "<Figure size 432x288 with 1 Axes>"
      ]
     },
     "metadata": {
      "needs_background": "light"
     },
     "output_type": "display_data"
    }
   ],
   "source": [
    "dataset[\"V0\"].plot(kind=\"hist\", bins=100)"
   ]
  },
  {
   "cell_type": "markdown",
   "metadata": {},
   "source": [
    "You need to go from the (partial) histogram of your data to the continuous distribution that the (full) data should have. If you don't want to make an assumption on the shape of that distribution, you can __smooth your histogram via a [spline](https://en.wikipedia.org/wiki/Spline_interpolation)__. This code does it:"
   ]
  },
  {
   "cell_type": "code",
   "execution_count": 47,
   "metadata": {},
   "outputs": [
    {
     "data": {
      "image/png": "[encoded data removed]",
      "text/plain": [
       "<Figure size 432x288 with 1 Axes>"
      ]
     },
     "metadata": {
      "needs_background": "light"
     },
     "output_type": "display_data"
    },
    {
     "data": {
      "text/plain": [
       "<scipy.interpolate.fitpack2.UnivariateSpline at 0x256594bb1f0>"
      ]
     },
     "execution_count": 47,
     "metadata": {},
     "output_type": "execute_result"
    }
   ],
   "source": [
    "def spline(myData, smoothing=2):\n",
    "    from scipy.interpolate import UnivariateSpline\n",
    "    N = len(myData)\n",
    "    n = int(N/10)\n",
    "    s = myData\n",
    "    p, x = np.histogram(s, bins=n) # bin it into n = N/10 bins\n",
    "    x = x[:-1] + (x[1] - x[0])/2   # convert bin edges to centers\n",
    "    f = UnivariateSpline(x, p, s=smoothing)\n",
    "    \n",
    "    plt.plot(x, p, 'bo', label = 'Original')\n",
    "    plt.plot(x, f(x), 'r', label = 'Interpolated')\n",
    "    plt.show()\n",
    "    return f\n",
    "\n",
    "spline(dataset[\"V0\"], smoothing=300)\n",
    "#you can save the result in a variable, and apply .get_coeffs() or .get_knots()\n",
    "#to have the characteristics of the spline"
   ]
  },
  {
   "cell_type": "markdown",
   "metadata": {},
   "source": [
    "> ___Milestone 6___\n",
    ">\n",
    "> Read the documentation for scipy.interpolate and UnivariateSpline. Then, experiment with different values of smoothing (set to 300 in the example above). Finally, <font color=\"red\">write in plain English what smoothing is, and how it's affected by the value</font>. \n",
    "\n",
    "---\n",
    "---\n",
    "\n",
    "Your crystal clear explanation starts here!"
   ]
  },
  {
   "cell_type": "markdown",
   "metadata": {},
   "source": [
    "<font color=\"grey\">Explanations...</font>"
   ]
  },
  {
   "cell_type": "markdown",
   "metadata": {},
   "source": [
    "# 3. Outlier handling\n",
    "\n",
    "The previous sections showed you increasingly sophisticated approaches to detect outliers. You have mostly three ways of dealing with them:\n",
    "* __Removing__ all records that contain them. The code would consist of what you did in the 2nd task (to find outliers), then transform the values in N/A, and use Panda's dropna(). The issue with this approach is that you could end up removing a lot of your data, so realistically you have to presence as much data as you can.\n",
    "* __Replacing__ outliers by a plausible value (known as 'imputation'). To find a plausible value, you'd need to figure out which distribution is most likely to produce the data. Then, you can remove the erroneous point, and randomly generate one based on the 'right' distribution instead.\n",
    "* Don't deal with them in the data. Leave them there. But choose __robust machine learning methods__ with built-in approaches to tolerate outliers or missing data points. For instance, if you do a regression, you can't just fit a line as usual. You would need to use a more robust method, [such as Theil-Sen](https://en.wikipedia.org/wiki/Theil%E2%80%93Sen_estimator). \n",
    "\n",
    "Note that all three solutions above can __also be used when you have missing data__, instead of incorrect data. "
   ]
  },
  {
   "cell_type": "markdown",
   "metadata": {},
   "source": [
    "> ___Milestone 7___\n",
    ">\n",
    "> Use the removal method to identify outlier values and discard entries that have them. That is, if a row contains at least one outlier value, that row should be removed.\n",
    "\n",
    "Somewhat painful but liberating code starts, and ends, here.\n",
    "\n",
    "---\n",
    "---"
   ]
  },
  {
   "cell_type": "code",
   "execution_count": null,
   "metadata": {},
   "outputs": [],
   "source": []
  },
  {
   "cell_type": "markdown",
   "metadata": {},
   "source": [
    "* https://machinelearningmastery.com/robust-scaler-transforms-for-machine-learning/\n",
    "* https://machinelearningmastery.com/how-to-use-statistics-to-identify-outliers-in-data/"
   ]
  }
 ],
 "metadata": {
  "kernelspec": {
   "display_name": "Python 3",
   "language": "python",
   "name": "python3"
  },
  "language_info": {
   "codemirror_mode": {
    "name": "ipython",
    "version": 3
   },
   "file_extension": ".py",
   "mimetype": "text/x-python",
   "name": "python",
   "nbconvert_exporter": "python",
   "pygments_lexer": "ipython3",
   "version": "3.8.5"
  },
  "widgets": {
   "application/vnd.jupyter.widget-state+json": {
    "state": {},
    "version_major": 2,
    "version_minor": 0
   }
  }
 },
 "nbformat": 4,
 "nbformat_minor": 2
}
